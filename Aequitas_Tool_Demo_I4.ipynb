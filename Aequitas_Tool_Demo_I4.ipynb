{
  "nbformat": 4,
  "nbformat_minor": 0,
  "metadata": {
    "colab": {
      "provenance": [],
      "collapsed_sections": [],
      "machine_shape": "hm"
    },
    "kernelspec": {
      "name": "python3",
      "display_name": "Python 3"
    },
    "language_info": {
      "name": "python"
    },
    "gpuClass": "standard"
  },
  "cells": [
    {
      "cell_type": "code",
      "execution_count": 1,
      "metadata": {
        "id": "n-NmJcSXd0dU"
      },
      "outputs": [],
      "source": [
        "import pandas as pd\n",
        "import numpy as np\n",
        "import random\n",
        "from tqdm.notebook import tqdm_notebook\n",
        "from sklearn.model_selection import train_test_split\n",
        "from sklearn.model_selection import cross_val_score\n",
        "from sklearn.model_selection import GridSearchCV\n",
        "from sklearn.ensemble import RandomForestClassifier\n",
        "from sklearn.metrics import accuracy_score\n",
        "from sklearn.compose import ColumnTransformer\n",
        "from sklearn.pipeline import Pipeline\n",
        "from sklearn.preprocessing import OneHotEncoder"
      ]
    },
    {
      "cell_type": "code",
      "source": [
        "from google.colab import drive\n",
        "drive.mount(\"/content/drive\")"
      ],
      "metadata": {
        "id": "GQojOp4reSCn",
        "colab": {
          "base_uri": "https://localhost:8080/"
        },
        "outputId": "4b5cb8a9-b4fc-4bfe-8603-ac3b4dde3f06"
      },
      "execution_count": 2,
      "outputs": [
        {
          "output_type": "stream",
          "name": "stdout",
          "text": [
            "Mounted at /content/drive\n"
          ]
        }
      ]
    },
    {
      "cell_type": "code",
      "source": [
        "cd \"/content/drive/MyDrive/Fall'22/17645 B - MLP/Assignment 4\""
      ],
      "metadata": {
        "colab": {
          "base_uri": "https://localhost:8080/"
        },
        "id": "LSVDi4Y7ef74",
        "outputId": "ac59c856-4832-4d71-b000-1c437d0bd002"
      },
      "execution_count": 3,
      "outputs": [
        {
          "output_type": "stream",
          "name": "stdout",
          "text": [
            "/content/drive/MyDrive/Fall'22/17645 B - MLP/Assignment 4\n"
          ]
        }
      ]
    },
    {
      "cell_type": "markdown",
      "source": [
        "# Load User Data"
      ],
      "metadata": {
        "id": "9dDr0gE7we89"
      }
    },
    {
      "cell_type": "code",
      "source": [
        "user_data = pd.read_csv(\"./data/cleaned_user_data.csv\",header=None,names=[\"User_ID\",\"Age\",\"Occupation\",\"Gender\"],skiprows=1)\n",
        "user_data.head()"
      ],
      "metadata": {
        "colab": {
          "base_uri": "https://localhost:8080/",
          "height": 206
        },
        "id": "wDLLQzDifbBv",
        "outputId": "72f52525-a035-4a0f-80c5-c0f48712c182"
      },
      "execution_count": 4,
      "outputs": [
        {
          "output_type": "execute_result",
          "data": {
            "text/plain": [
              "   User_ID  Age              Occupation Gender\n",
              "0        2   33    college/grad student      M\n",
              "1        3   29               scientist      M\n",
              "2        4   30  other or not specified      M\n",
              "3        5   26               scientist      M\n",
              "4        6   27    college/grad student      F"
            ],
            "text/html": [
              "\n",
              "  <div id=\"df-58daf3c1-eb8c-4376-beb3-8883fb939ff1\">\n",
              "    <div class=\"colab-df-container\">\n",
              "      <div>\n",
              "<style scoped>\n",
              "    .dataframe tbody tr th:only-of-type {\n",
              "        vertical-align: middle;\n",
              "    }\n",
              "\n",
              "    .dataframe tbody tr th {\n",
              "        vertical-align: top;\n",
              "    }\n",
              "\n",
              "    .dataframe thead th {\n",
              "        text-align: right;\n",
              "    }\n",
              "</style>\n",
              "<table border=\"1\" class=\"dataframe\">\n",
              "  <thead>\n",
              "    <tr style=\"text-align: right;\">\n",
              "      <th></th>\n",
              "      <th>User_ID</th>\n",
              "      <th>Age</th>\n",
              "      <th>Occupation</th>\n",
              "      <th>Gender</th>\n",
              "    </tr>\n",
              "  </thead>\n",
              "  <tbody>\n",
              "    <tr>\n",
              "      <th>0</th>\n",
              "      <td>2</td>\n",
              "      <td>33</td>\n",
              "      <td>college/grad student</td>\n",
              "      <td>M</td>\n",
              "    </tr>\n",
              "    <tr>\n",
              "      <th>1</th>\n",
              "      <td>3</td>\n",
              "      <td>29</td>\n",
              "      <td>scientist</td>\n",
              "      <td>M</td>\n",
              "    </tr>\n",
              "    <tr>\n",
              "      <th>2</th>\n",
              "      <td>4</td>\n",
              "      <td>30</td>\n",
              "      <td>other or not specified</td>\n",
              "      <td>M</td>\n",
              "    </tr>\n",
              "    <tr>\n",
              "      <th>3</th>\n",
              "      <td>5</td>\n",
              "      <td>26</td>\n",
              "      <td>scientist</td>\n",
              "      <td>M</td>\n",
              "    </tr>\n",
              "    <tr>\n",
              "      <th>4</th>\n",
              "      <td>6</td>\n",
              "      <td>27</td>\n",
              "      <td>college/grad student</td>\n",
              "      <td>F</td>\n",
              "    </tr>\n",
              "  </tbody>\n",
              "</table>\n",
              "</div>\n",
              "      <button class=\"colab-df-convert\" onclick=\"convertToInteractive('df-58daf3c1-eb8c-4376-beb3-8883fb939ff1')\"\n",
              "              title=\"Convert this dataframe to an interactive table.\"\n",
              "              style=\"display:none;\">\n",
              "        \n",
              "  <svg xmlns=\"http://www.w3.org/2000/svg\" height=\"24px\"viewBox=\"0 0 24 24\"\n",
              "       width=\"24px\">\n",
              "    <path d=\"M0 0h24v24H0V0z\" fill=\"none\"/>\n",
              "    <path d=\"M18.56 5.44l.94 2.06.94-2.06 2.06-.94-2.06-.94-.94-2.06-.94 2.06-2.06.94zm-11 1L8.5 8.5l.94-2.06 2.06-.94-2.06-.94L8.5 2.5l-.94 2.06-2.06.94zm10 10l.94 2.06.94-2.06 2.06-.94-2.06-.94-.94-2.06-.94 2.06-2.06.94z\"/><path d=\"M17.41 7.96l-1.37-1.37c-.4-.4-.92-.59-1.43-.59-.52 0-1.04.2-1.43.59L10.3 9.45l-7.72 7.72c-.78.78-.78 2.05 0 2.83L4 21.41c.39.39.9.59 1.41.59.51 0 1.02-.2 1.41-.59l7.78-7.78 2.81-2.81c.8-.78.8-2.07 0-2.86zM5.41 20L4 18.59l7.72-7.72 1.47 1.35L5.41 20z\"/>\n",
              "  </svg>\n",
              "      </button>\n",
              "      \n",
              "  <style>\n",
              "    .colab-df-container {\n",
              "      display:flex;\n",
              "      flex-wrap:wrap;\n",
              "      gap: 12px;\n",
              "    }\n",
              "\n",
              "    .colab-df-convert {\n",
              "      background-color: #E8F0FE;\n",
              "      border: none;\n",
              "      border-radius: 50%;\n",
              "      cursor: pointer;\n",
              "      display: none;\n",
              "      fill: #1967D2;\n",
              "      height: 32px;\n",
              "      padding: 0 0 0 0;\n",
              "      width: 32px;\n",
              "    }\n",
              "\n",
              "    .colab-df-convert:hover {\n",
              "      background-color: #E2EBFA;\n",
              "      box-shadow: 0px 1px 2px rgba(60, 64, 67, 0.3), 0px 1px 3px 1px rgba(60, 64, 67, 0.15);\n",
              "      fill: #174EA6;\n",
              "    }\n",
              "\n",
              "    [theme=dark] .colab-df-convert {\n",
              "      background-color: #3B4455;\n",
              "      fill: #D2E3FC;\n",
              "    }\n",
              "\n",
              "    [theme=dark] .colab-df-convert:hover {\n",
              "      background-color: #434B5C;\n",
              "      box-shadow: 0px 1px 3px 1px rgba(0, 0, 0, 0.15);\n",
              "      filter: drop-shadow(0px 1px 2px rgba(0, 0, 0, 0.3));\n",
              "      fill: #FFFFFF;\n",
              "    }\n",
              "  </style>\n",
              "\n",
              "      <script>\n",
              "        const buttonEl =\n",
              "          document.querySelector('#df-58daf3c1-eb8c-4376-beb3-8883fb939ff1 button.colab-df-convert');\n",
              "        buttonEl.style.display =\n",
              "          google.colab.kernel.accessAllowed ? 'block' : 'none';\n",
              "\n",
              "        async function convertToInteractive(key) {\n",
              "          const element = document.querySelector('#df-58daf3c1-eb8c-4376-beb3-8883fb939ff1');\n",
              "          const dataTable =\n",
              "            await google.colab.kernel.invokeFunction('convertToInteractive',\n",
              "                                                     [key], {});\n",
              "          if (!dataTable) return;\n",
              "\n",
              "          const docLinkHtml = 'Like what you see? Visit the ' +\n",
              "            '<a target=\"_blank\" href=https://colab.research.google.com/notebooks/data_table.ipynb>data table notebook</a>'\n",
              "            + ' to learn more about interactive tables.';\n",
              "          element.innerHTML = '';\n",
              "          dataTable['output_type'] = 'display_data';\n",
              "          await google.colab.output.renderOutput(dataTable, element);\n",
              "          const docLink = document.createElement('div');\n",
              "          docLink.innerHTML = docLinkHtml;\n",
              "          element.appendChild(docLink);\n",
              "        }\n",
              "      </script>\n",
              "    </div>\n",
              "  </div>\n",
              "  "
            ]
          },
          "metadata": {},
          "execution_count": 4
        }
      ]
    },
    {
      "cell_type": "code",
      "source": [
        "user_data.info()"
      ],
      "metadata": {
        "colab": {
          "base_uri": "https://localhost:8080/"
        },
        "id": "gNXapCmmhGCR",
        "outputId": "895b28cd-80c5-4e27-8dc6-81f7eb7c27b6"
      },
      "execution_count": 5,
      "outputs": [
        {
          "output_type": "stream",
          "name": "stdout",
          "text": [
            "<class 'pandas.core.frame.DataFrame'>\n",
            "Int64Index: 999999 entries, 0 to 999998\n",
            "Data columns (total 4 columns):\n",
            " #   Column      Non-Null Count   Dtype \n",
            "---  ------      --------------   ----- \n",
            " 0   User_ID     999999 non-null  int64 \n",
            " 1   Age         999999 non-null  int64 \n",
            " 2   Occupation  999999 non-null  object\n",
            " 3   Gender      999999 non-null  object\n",
            "dtypes: int64(2), object(2)\n",
            "memory usage: 38.1+ MB\n"
          ]
        }
      ]
    },
    {
      "cell_type": "code",
      "source": [
        "user_data.Occupation.value_counts()"
      ],
      "metadata": {
        "colab": {
          "base_uri": "https://localhost:8080/"
        },
        "id": "aKj7OauYhKqK",
        "outputId": "067cc3bc-6c88-4c78-998d-4b04a5c295ca"
      },
      "execution_count": 6,
      "outputs": [
        {
          "output_type": "execute_result",
          "data": {
            "text/plain": [
              "college/grad student      241685\n",
              "executive/managerial      193153\n",
              "sales/marketing           132826\n",
              "scientist                  94787\n",
              "other or not specified     66787\n",
              "self-employed              66133\n",
              "academic/educator          38205\n",
              "K-12 student               35844\n",
              "homemaker                  27847\n",
              "artist                     21633\n",
              "retired                    17177\n",
              "clerical/admin             16916\n",
              "technician/engineer        14037\n",
              "programmer                 10652\n",
              "tradesman/craftsman         5962\n",
              "writer                      4192\n",
              "lawyer                      3657\n",
              "doctor/health care          3432\n",
              "customer service            2770\n",
              "unemployed                  1859\n",
              "farmer                       445\n",
              "Name: Occupation, dtype: int64"
            ]
          },
          "metadata": {},
          "execution_count": 6
        }
      ]
    },
    {
      "cell_type": "code",
      "source": [
        "user_data.Age.value_counts()"
      ],
      "metadata": {
        "colab": {
          "base_uri": "https://localhost:8080/"
        },
        "id": "tm3Hzr9qwnf2",
        "outputId": "da538b4f-9614-4c8d-9041-13a7f4ac8377"
      },
      "execution_count": 7,
      "outputs": [
        {
          "output_type": "execute_result",
          "data": {
            "text/plain": [
              "26    84253\n",
              "32    83755\n",
              "28    83637\n",
              "29    83597\n",
              "31    83530\n",
              "      ...  \n",
              "65      514\n",
              "76      509\n",
              "73      504\n",
              "88      496\n",
              "57      477\n",
              "Name: Age, Length: 83, dtype: int64"
            ]
          },
          "metadata": {},
          "execution_count": 7
        }
      ]
    },
    {
      "cell_type": "code",
      "source": [
        "user_data.Gender.value_counts()"
      ],
      "metadata": {
        "colab": {
          "base_uri": "https://localhost:8080/"
        },
        "id": "vZmaMfA7wtc9",
        "outputId": "ea58dfda-1167-4f1e-e17a-bec8a84f0255"
      },
      "execution_count": 8,
      "outputs": [
        {
          "output_type": "execute_result",
          "data": {
            "text/plain": [
              "M    829959\n",
              "F    170040\n",
              "Name: Gender, dtype: int64"
            ]
          },
          "metadata": {},
          "execution_count": 8
        }
      ]
    },
    {
      "cell_type": "markdown",
      "source": [
        "# Load Movie Data"
      ],
      "metadata": {
        "id": "NRAvYaDyxqjZ"
      }
    },
    {
      "cell_type": "code",
      "source": [
        "movieinfo_data = pd.read_csv(\"./data/flattened_movie_data_from_functions.csv\",index_col=0)\n",
        "movieinfo_data.head()"
      ],
      "metadata": {
        "colab": {
          "base_uri": "https://localhost:8080/",
          "height": 751
        },
        "id": "zVKjXhUyxu8o",
        "outputId": "d14adde7-30da-4af4-da04-eae2e8824375"
      },
      "execution_count": 9,
      "outputs": [
        {
          "output_type": "stream",
          "name": "stderr",
          "text": [
            "/usr/local/lib/python3.7/dist-packages/IPython/core/interactiveshell.py:3326: DtypeWarning: Columns (25,32,33,34,35,36,37,38,39,40,41,42,43,44,101,102,103,104,105,106,107,108,109,110,111,112,113,114,115,116,117,118,119,120,121,122,130,131,132,133,134,135,136,137,138,139,140,141,142,143,144,145,146,147) have mixed types.Specify dtype option on import or set low_memory=False.\n",
            "  exec(code_obj, self.user_global_ns, self.user_ns)\n"
          ]
        },
        {
          "output_type": "execute_result",
          "data": {
            "text/plain": [
              "                 id original_title     budget  \\\n",
              "0  next+friday+2000    Next Friday   11000000   \n",
              "1  the+goonies+1985    The Goonies   19000000   \n",
              "2    inception+2010      Inception  160000000   \n",
              "3    true+lies+1994      True Lies  115000000   \n",
              "4     the+rock+1996       The Rock   75000000   \n",
              "\n",
              "                                              genres original_language  \\\n",
              "0                     [{'id': 35, 'name': 'Comedy'}]                en   \n",
              "1  [{'id': 12, 'name': 'Adventure'}, {'id': 35, '...                en   \n",
              "2  [{'id': 28, 'name': 'Action'}, {'id': 53, 'nam...                en   \n",
              "3  [{'id': 28, 'name': 'Action'}, {'id': 53, 'nam...                en   \n",
              "4  [{'id': 28, 'name': 'Action'}, {'id': 12, 'nam...                en   \n",
              "\n",
              "                                            overview  popularity  \\\n",
              "0  Ice Cube returns as Craig Jones, a streetwise ...   10.065450   \n",
              "1  A young teenager named Mikey Walsh finds an ol...   14.280703   \n",
              "2  Cobb, a skilled thief who commits corporate es...   29.108149   \n",
              "3  Harry Tasker is a secret agent for the United ...   11.396099   \n",
              "4  A group of renegade marine commandos seizes a ...   13.249824   \n",
              "\n",
              "                                production_companies  \\\n",
              "0            [{'name': 'New Line Cinema', 'id': 12}]   \n",
              "1  [{'name': 'Amblin Entertainment', 'id': 56}, {...   \n",
              "2  [{'name': 'Legendary Pictures', 'id': 923}, {'...   \n",
              "3  [{'name': 'Twentieth Century Fox Film Corporat...   \n",
              "4  [{'name': 'Hollywood Pictures', 'id': 915}, {'...   \n",
              "\n",
              "                                production_countries release_date  ...  \\\n",
              "0  [{'iso_3166_1': 'US', 'name': 'United States o...   2000-01-12  ...   \n",
              "1  [{'iso_3166_1': 'US', 'name': 'United States o...   1985-06-06  ...   \n",
              "2  [{'iso_3166_1': 'GB', 'name': 'United Kingdom'...   2010-07-14  ...   \n",
              "3  [{'iso_3166_1': 'US', 'name': 'United States o...   1994-07-14  ...   \n",
              "4  [{'iso_3166_1': 'US', 'name': 'United States o...   1996-06-06  ...   \n",
              "\n",
              "   production_countries_15  production_countries_16 production_countries_17  \\\n",
              "0                      NaN                      NaN                     NaN   \n",
              "1                      NaN                      NaN                     NaN   \n",
              "2                      NaN                      NaN                     NaN   \n",
              "3                      NaN                      NaN                     NaN   \n",
              "4                      NaN                      NaN                     NaN   \n",
              "\n",
              "  production_countries_18  production_countries_19  production_countries_20  \\\n",
              "0                     NaN                      NaN                      NaN   \n",
              "1                     NaN                      NaN                      NaN   \n",
              "2                     NaN                      NaN                      NaN   \n",
              "3                     NaN                      NaN                      NaN   \n",
              "4                     NaN                      NaN                      NaN   \n",
              "\n",
              "  production_countries_21 production_countries_22 production_countries_23  \\\n",
              "0                     NaN                     NaN                     NaN   \n",
              "1                     NaN                     NaN                     NaN   \n",
              "2                     NaN                     NaN                     NaN   \n",
              "3                     NaN                     NaN                     NaN   \n",
              "4                     NaN                     NaN                     NaN   \n",
              "\n",
              "  production_countries_24  \n",
              "0                     NaN  \n",
              "1                     NaN  \n",
              "2                     NaN  \n",
              "3                     NaN  \n",
              "4                     NaN  \n",
              "\n",
              "[5 rows x 147 columns]"
            ],
            "text/html": [
              "\n",
              "  <div id=\"df-0a83a939-c37b-4053-8879-c0f2add4393d\">\n",
              "    <div class=\"colab-df-container\">\n",
              "      <div>\n",
              "<style scoped>\n",
              "    .dataframe tbody tr th:only-of-type {\n",
              "        vertical-align: middle;\n",
              "    }\n",
              "\n",
              "    .dataframe tbody tr th {\n",
              "        vertical-align: top;\n",
              "    }\n",
              "\n",
              "    .dataframe thead th {\n",
              "        text-align: right;\n",
              "    }\n",
              "</style>\n",
              "<table border=\"1\" class=\"dataframe\">\n",
              "  <thead>\n",
              "    <tr style=\"text-align: right;\">\n",
              "      <th></th>\n",
              "      <th>id</th>\n",
              "      <th>original_title</th>\n",
              "      <th>budget</th>\n",
              "      <th>genres</th>\n",
              "      <th>original_language</th>\n",
              "      <th>overview</th>\n",
              "      <th>popularity</th>\n",
              "      <th>production_companies</th>\n",
              "      <th>production_countries</th>\n",
              "      <th>release_date</th>\n",
              "      <th>...</th>\n",
              "      <th>production_countries_15</th>\n",
              "      <th>production_countries_16</th>\n",
              "      <th>production_countries_17</th>\n",
              "      <th>production_countries_18</th>\n",
              "      <th>production_countries_19</th>\n",
              "      <th>production_countries_20</th>\n",
              "      <th>production_countries_21</th>\n",
              "      <th>production_countries_22</th>\n",
              "      <th>production_countries_23</th>\n",
              "      <th>production_countries_24</th>\n",
              "    </tr>\n",
              "  </thead>\n",
              "  <tbody>\n",
              "    <tr>\n",
              "      <th>0</th>\n",
              "      <td>next+friday+2000</td>\n",
              "      <td>Next Friday</td>\n",
              "      <td>11000000</td>\n",
              "      <td>[{'id': 35, 'name': 'Comedy'}]</td>\n",
              "      <td>en</td>\n",
              "      <td>Ice Cube returns as Craig Jones, a streetwise ...</td>\n",
              "      <td>10.065450</td>\n",
              "      <td>[{'name': 'New Line Cinema', 'id': 12}]</td>\n",
              "      <td>[{'iso_3166_1': 'US', 'name': 'United States o...</td>\n",
              "      <td>2000-01-12</td>\n",
              "      <td>...</td>\n",
              "      <td>NaN</td>\n",
              "      <td>NaN</td>\n",
              "      <td>NaN</td>\n",
              "      <td>NaN</td>\n",
              "      <td>NaN</td>\n",
              "      <td>NaN</td>\n",
              "      <td>NaN</td>\n",
              "      <td>NaN</td>\n",
              "      <td>NaN</td>\n",
              "      <td>NaN</td>\n",
              "    </tr>\n",
              "    <tr>\n",
              "      <th>1</th>\n",
              "      <td>the+goonies+1985</td>\n",
              "      <td>The Goonies</td>\n",
              "      <td>19000000</td>\n",
              "      <td>[{'id': 12, 'name': 'Adventure'}, {'id': 35, '...</td>\n",
              "      <td>en</td>\n",
              "      <td>A young teenager named Mikey Walsh finds an ol...</td>\n",
              "      <td>14.280703</td>\n",
              "      <td>[{'name': 'Amblin Entertainment', 'id': 56}, {...</td>\n",
              "      <td>[{'iso_3166_1': 'US', 'name': 'United States o...</td>\n",
              "      <td>1985-06-06</td>\n",
              "      <td>...</td>\n",
              "      <td>NaN</td>\n",
              "      <td>NaN</td>\n",
              "      <td>NaN</td>\n",
              "      <td>NaN</td>\n",
              "      <td>NaN</td>\n",
              "      <td>NaN</td>\n",
              "      <td>NaN</td>\n",
              "      <td>NaN</td>\n",
              "      <td>NaN</td>\n",
              "      <td>NaN</td>\n",
              "    </tr>\n",
              "    <tr>\n",
              "      <th>2</th>\n",
              "      <td>inception+2010</td>\n",
              "      <td>Inception</td>\n",
              "      <td>160000000</td>\n",
              "      <td>[{'id': 28, 'name': 'Action'}, {'id': 53, 'nam...</td>\n",
              "      <td>en</td>\n",
              "      <td>Cobb, a skilled thief who commits corporate es...</td>\n",
              "      <td>29.108149</td>\n",
              "      <td>[{'name': 'Legendary Pictures', 'id': 923}, {'...</td>\n",
              "      <td>[{'iso_3166_1': 'GB', 'name': 'United Kingdom'...</td>\n",
              "      <td>2010-07-14</td>\n",
              "      <td>...</td>\n",
              "      <td>NaN</td>\n",
              "      <td>NaN</td>\n",
              "      <td>NaN</td>\n",
              "      <td>NaN</td>\n",
              "      <td>NaN</td>\n",
              "      <td>NaN</td>\n",
              "      <td>NaN</td>\n",
              "      <td>NaN</td>\n",
              "      <td>NaN</td>\n",
              "      <td>NaN</td>\n",
              "    </tr>\n",
              "    <tr>\n",
              "      <th>3</th>\n",
              "      <td>true+lies+1994</td>\n",
              "      <td>True Lies</td>\n",
              "      <td>115000000</td>\n",
              "      <td>[{'id': 28, 'name': 'Action'}, {'id': 53, 'nam...</td>\n",
              "      <td>en</td>\n",
              "      <td>Harry Tasker is a secret agent for the United ...</td>\n",
              "      <td>11.396099</td>\n",
              "      <td>[{'name': 'Twentieth Century Fox Film Corporat...</td>\n",
              "      <td>[{'iso_3166_1': 'US', 'name': 'United States o...</td>\n",
              "      <td>1994-07-14</td>\n",
              "      <td>...</td>\n",
              "      <td>NaN</td>\n",
              "      <td>NaN</td>\n",
              "      <td>NaN</td>\n",
              "      <td>NaN</td>\n",
              "      <td>NaN</td>\n",
              "      <td>NaN</td>\n",
              "      <td>NaN</td>\n",
              "      <td>NaN</td>\n",
              "      <td>NaN</td>\n",
              "      <td>NaN</td>\n",
              "    </tr>\n",
              "    <tr>\n",
              "      <th>4</th>\n",
              "      <td>the+rock+1996</td>\n",
              "      <td>The Rock</td>\n",
              "      <td>75000000</td>\n",
              "      <td>[{'id': 28, 'name': 'Action'}, {'id': 12, 'nam...</td>\n",
              "      <td>en</td>\n",
              "      <td>A group of renegade marine commandos seizes a ...</td>\n",
              "      <td>13.249824</td>\n",
              "      <td>[{'name': 'Hollywood Pictures', 'id': 915}, {'...</td>\n",
              "      <td>[{'iso_3166_1': 'US', 'name': 'United States o...</td>\n",
              "      <td>1996-06-06</td>\n",
              "      <td>...</td>\n",
              "      <td>NaN</td>\n",
              "      <td>NaN</td>\n",
              "      <td>NaN</td>\n",
              "      <td>NaN</td>\n",
              "      <td>NaN</td>\n",
              "      <td>NaN</td>\n",
              "      <td>NaN</td>\n",
              "      <td>NaN</td>\n",
              "      <td>NaN</td>\n",
              "      <td>NaN</td>\n",
              "    </tr>\n",
              "  </tbody>\n",
              "</table>\n",
              "<p>5 rows × 147 columns</p>\n",
              "</div>\n",
              "      <button class=\"colab-df-convert\" onclick=\"convertToInteractive('df-0a83a939-c37b-4053-8879-c0f2add4393d')\"\n",
              "              title=\"Convert this dataframe to an interactive table.\"\n",
              "              style=\"display:none;\">\n",
              "        \n",
              "  <svg xmlns=\"http://www.w3.org/2000/svg\" height=\"24px\"viewBox=\"0 0 24 24\"\n",
              "       width=\"24px\">\n",
              "    <path d=\"M0 0h24v24H0V0z\" fill=\"none\"/>\n",
              "    <path d=\"M18.56 5.44l.94 2.06.94-2.06 2.06-.94-2.06-.94-.94-2.06-.94 2.06-2.06.94zm-11 1L8.5 8.5l.94-2.06 2.06-.94-2.06-.94L8.5 2.5l-.94 2.06-2.06.94zm10 10l.94 2.06.94-2.06 2.06-.94-2.06-.94-.94-2.06-.94 2.06-2.06.94z\"/><path d=\"M17.41 7.96l-1.37-1.37c-.4-.4-.92-.59-1.43-.59-.52 0-1.04.2-1.43.59L10.3 9.45l-7.72 7.72c-.78.78-.78 2.05 0 2.83L4 21.41c.39.39.9.59 1.41.59.51 0 1.02-.2 1.41-.59l7.78-7.78 2.81-2.81c.8-.78.8-2.07 0-2.86zM5.41 20L4 18.59l7.72-7.72 1.47 1.35L5.41 20z\"/>\n",
              "  </svg>\n",
              "      </button>\n",
              "      \n",
              "  <style>\n",
              "    .colab-df-container {\n",
              "      display:flex;\n",
              "      flex-wrap:wrap;\n",
              "      gap: 12px;\n",
              "    }\n",
              "\n",
              "    .colab-df-convert {\n",
              "      background-color: #E8F0FE;\n",
              "      border: none;\n",
              "      border-radius: 50%;\n",
              "      cursor: pointer;\n",
              "      display: none;\n",
              "      fill: #1967D2;\n",
              "      height: 32px;\n",
              "      padding: 0 0 0 0;\n",
              "      width: 32px;\n",
              "    }\n",
              "\n",
              "    .colab-df-convert:hover {\n",
              "      background-color: #E2EBFA;\n",
              "      box-shadow: 0px 1px 2px rgba(60, 64, 67, 0.3), 0px 1px 3px 1px rgba(60, 64, 67, 0.15);\n",
              "      fill: #174EA6;\n",
              "    }\n",
              "\n",
              "    [theme=dark] .colab-df-convert {\n",
              "      background-color: #3B4455;\n",
              "      fill: #D2E3FC;\n",
              "    }\n",
              "\n",
              "    [theme=dark] .colab-df-convert:hover {\n",
              "      background-color: #434B5C;\n",
              "      box-shadow: 0px 1px 3px 1px rgba(0, 0, 0, 0.15);\n",
              "      filter: drop-shadow(0px 1px 2px rgba(0, 0, 0, 0.3));\n",
              "      fill: #FFFFFF;\n",
              "    }\n",
              "  </style>\n",
              "\n",
              "      <script>\n",
              "        const buttonEl =\n",
              "          document.querySelector('#df-0a83a939-c37b-4053-8879-c0f2add4393d button.colab-df-convert');\n",
              "        buttonEl.style.display =\n",
              "          google.colab.kernel.accessAllowed ? 'block' : 'none';\n",
              "\n",
              "        async function convertToInteractive(key) {\n",
              "          const element = document.querySelector('#df-0a83a939-c37b-4053-8879-c0f2add4393d');\n",
              "          const dataTable =\n",
              "            await google.colab.kernel.invokeFunction('convertToInteractive',\n",
              "                                                     [key], {});\n",
              "          if (!dataTable) return;\n",
              "\n",
              "          const docLinkHtml = 'Like what you see? Visit the ' +\n",
              "            '<a target=\"_blank\" href=https://colab.research.google.com/notebooks/data_table.ipynb>data table notebook</a>'\n",
              "            + ' to learn more about interactive tables.';\n",
              "          element.innerHTML = '';\n",
              "          dataTable['output_type'] = 'display_data';\n",
              "          await google.colab.output.renderOutput(dataTable, element);\n",
              "          const docLink = document.createElement('div');\n",
              "          docLink.innerHTML = docLinkHtml;\n",
              "          element.appendChild(docLink);\n",
              "        }\n",
              "      </script>\n",
              "    </div>\n",
              "  </div>\n",
              "  "
            ]
          },
          "metadata": {},
          "execution_count": 9
        }
      ]
    },
    {
      "cell_type": "code",
      "source": [
        "movieinfo_data.info()"
      ],
      "metadata": {
        "colab": {
          "base_uri": "https://localhost:8080/"
        },
        "id": "D-fLauRFxu6L",
        "outputId": "b1d9bd57-e60b-4e57-b5c7-1f7a6c4314e2"
      },
      "execution_count": 10,
      "outputs": [
        {
          "output_type": "stream",
          "name": "stdout",
          "text": [
            "<class 'pandas.core.frame.DataFrame'>\n",
            "Int64Index: 26667 entries, 0 to 26666\n",
            "Columns: 147 entries, id to production_countries_24\n",
            "dtypes: float64(2), int64(4), object(141)\n",
            "memory usage: 30.1+ MB\n"
          ]
        }
      ]
    },
    {
      "cell_type": "code",
      "source": [
        "movieinfo_data.genre_0.unique()"
      ],
      "metadata": {
        "colab": {
          "base_uri": "https://localhost:8080/"
        },
        "id": "POijfr5Vxu4F",
        "outputId": "b52005bd-6fac-457a-a3bc-5c7f3894b9e5"
      },
      "execution_count": 11,
      "outputs": [
        {
          "output_type": "execute_result",
          "data": {
            "text/plain": [
              "array([\"'Comedy'\", \"'Adventure'\", \"'Action'\", \"'Drama'\", \"'Science\",\n",
              "       \"'Animation'\", \"'Music'\", \"'Crime'\", \"'Romance'\", \"'Thriller'\",\n",
              "       \"'Mystery'\", \"'History'\", \"'War'\", \"'Fantasy'\", \"'Family'\",\n",
              "       \"'Documentary'\", \"'Horror'\", \"'Western'\", nan, \"'TV\", \"'Foreign'\"],\n",
              "      dtype=object)"
            ]
          },
          "metadata": {},
          "execution_count": 11
        }
      ]
    },
    {
      "cell_type": "code",
      "source": [
        "genre_cols = ['genre_0']\n",
        "movieinfo_genre_data = movieinfo_data[[\"id\"] + [\"original_title\"]+ genre_cols]  \n",
        "movieinfo_genre_data['genre_0'] = movieinfo_genre_data['genre_0'].str.replace(\"'\",'')\n",
        "movieinfo_genre_data = movieinfo_genre_data.dropna()\n",
        "movieinfo_genre_data.head()"
      ],
      "metadata": {
        "colab": {
          "base_uri": "https://localhost:8080/",
          "height": 310
        },
        "id": "aMZ1LlVYxu1v",
        "outputId": "4593ce3f-cf25-4553-e9e2-683d960bc621"
      },
      "execution_count": 12,
      "outputs": [
        {
          "output_type": "stream",
          "name": "stderr",
          "text": [
            "/usr/local/lib/python3.7/dist-packages/ipykernel_launcher.py:3: SettingWithCopyWarning: \n",
            "A value is trying to be set on a copy of a slice from a DataFrame.\n",
            "Try using .loc[row_indexer,col_indexer] = value instead\n",
            "\n",
            "See the caveats in the documentation: https://pandas.pydata.org/pandas-docs/stable/user_guide/indexing.html#returning-a-view-versus-a-copy\n",
            "  This is separate from the ipykernel package so we can avoid doing imports until\n"
          ]
        },
        {
          "output_type": "execute_result",
          "data": {
            "text/plain": [
              "                 id original_title    genre_0\n",
              "0  next+friday+2000    Next Friday     Comedy\n",
              "1  the+goonies+1985    The Goonies  Adventure\n",
              "2    inception+2010      Inception     Action\n",
              "3    true+lies+1994      True Lies     Action\n",
              "4     the+rock+1996       The Rock     Action"
            ],
            "text/html": [
              "\n",
              "  <div id=\"df-b03e0ee4-3799-454b-ba49-84e90a845e5e\">\n",
              "    <div class=\"colab-df-container\">\n",
              "      <div>\n",
              "<style scoped>\n",
              "    .dataframe tbody tr th:only-of-type {\n",
              "        vertical-align: middle;\n",
              "    }\n",
              "\n",
              "    .dataframe tbody tr th {\n",
              "        vertical-align: top;\n",
              "    }\n",
              "\n",
              "    .dataframe thead th {\n",
              "        text-align: right;\n",
              "    }\n",
              "</style>\n",
              "<table border=\"1\" class=\"dataframe\">\n",
              "  <thead>\n",
              "    <tr style=\"text-align: right;\">\n",
              "      <th></th>\n",
              "      <th>id</th>\n",
              "      <th>original_title</th>\n",
              "      <th>genre_0</th>\n",
              "    </tr>\n",
              "  </thead>\n",
              "  <tbody>\n",
              "    <tr>\n",
              "      <th>0</th>\n",
              "      <td>next+friday+2000</td>\n",
              "      <td>Next Friday</td>\n",
              "      <td>Comedy</td>\n",
              "    </tr>\n",
              "    <tr>\n",
              "      <th>1</th>\n",
              "      <td>the+goonies+1985</td>\n",
              "      <td>The Goonies</td>\n",
              "      <td>Adventure</td>\n",
              "    </tr>\n",
              "    <tr>\n",
              "      <th>2</th>\n",
              "      <td>inception+2010</td>\n",
              "      <td>Inception</td>\n",
              "      <td>Action</td>\n",
              "    </tr>\n",
              "    <tr>\n",
              "      <th>3</th>\n",
              "      <td>true+lies+1994</td>\n",
              "      <td>True Lies</td>\n",
              "      <td>Action</td>\n",
              "    </tr>\n",
              "    <tr>\n",
              "      <th>4</th>\n",
              "      <td>the+rock+1996</td>\n",
              "      <td>The Rock</td>\n",
              "      <td>Action</td>\n",
              "    </tr>\n",
              "  </tbody>\n",
              "</table>\n",
              "</div>\n",
              "      <button class=\"colab-df-convert\" onclick=\"convertToInteractive('df-b03e0ee4-3799-454b-ba49-84e90a845e5e')\"\n",
              "              title=\"Convert this dataframe to an interactive table.\"\n",
              "              style=\"display:none;\">\n",
              "        \n",
              "  <svg xmlns=\"http://www.w3.org/2000/svg\" height=\"24px\"viewBox=\"0 0 24 24\"\n",
              "       width=\"24px\">\n",
              "    <path d=\"M0 0h24v24H0V0z\" fill=\"none\"/>\n",
              "    <path d=\"M18.56 5.44l.94 2.06.94-2.06 2.06-.94-2.06-.94-.94-2.06-.94 2.06-2.06.94zm-11 1L8.5 8.5l.94-2.06 2.06-.94-2.06-.94L8.5 2.5l-.94 2.06-2.06.94zm10 10l.94 2.06.94-2.06 2.06-.94-2.06-.94-.94-2.06-.94 2.06-2.06.94z\"/><path d=\"M17.41 7.96l-1.37-1.37c-.4-.4-.92-.59-1.43-.59-.52 0-1.04.2-1.43.59L10.3 9.45l-7.72 7.72c-.78.78-.78 2.05 0 2.83L4 21.41c.39.39.9.59 1.41.59.51 0 1.02-.2 1.41-.59l7.78-7.78 2.81-2.81c.8-.78.8-2.07 0-2.86zM5.41 20L4 18.59l7.72-7.72 1.47 1.35L5.41 20z\"/>\n",
              "  </svg>\n",
              "      </button>\n",
              "      \n",
              "  <style>\n",
              "    .colab-df-container {\n",
              "      display:flex;\n",
              "      flex-wrap:wrap;\n",
              "      gap: 12px;\n",
              "    }\n",
              "\n",
              "    .colab-df-convert {\n",
              "      background-color: #E8F0FE;\n",
              "      border: none;\n",
              "      border-radius: 50%;\n",
              "      cursor: pointer;\n",
              "      display: none;\n",
              "      fill: #1967D2;\n",
              "      height: 32px;\n",
              "      padding: 0 0 0 0;\n",
              "      width: 32px;\n",
              "    }\n",
              "\n",
              "    .colab-df-convert:hover {\n",
              "      background-color: #E2EBFA;\n",
              "      box-shadow: 0px 1px 2px rgba(60, 64, 67, 0.3), 0px 1px 3px 1px rgba(60, 64, 67, 0.15);\n",
              "      fill: #174EA6;\n",
              "    }\n",
              "\n",
              "    [theme=dark] .colab-df-convert {\n",
              "      background-color: #3B4455;\n",
              "      fill: #D2E3FC;\n",
              "    }\n",
              "\n",
              "    [theme=dark] .colab-df-convert:hover {\n",
              "      background-color: #434B5C;\n",
              "      box-shadow: 0px 1px 3px 1px rgba(0, 0, 0, 0.15);\n",
              "      filter: drop-shadow(0px 1px 2px rgba(0, 0, 0, 0.3));\n",
              "      fill: #FFFFFF;\n",
              "    }\n",
              "  </style>\n",
              "\n",
              "      <script>\n",
              "        const buttonEl =\n",
              "          document.querySelector('#df-b03e0ee4-3799-454b-ba49-84e90a845e5e button.colab-df-convert');\n",
              "        buttonEl.style.display =\n",
              "          google.colab.kernel.accessAllowed ? 'block' : 'none';\n",
              "\n",
              "        async function convertToInteractive(key) {\n",
              "          const element = document.querySelector('#df-b03e0ee4-3799-454b-ba49-84e90a845e5e');\n",
              "          const dataTable =\n",
              "            await google.colab.kernel.invokeFunction('convertToInteractive',\n",
              "                                                     [key], {});\n",
              "          if (!dataTable) return;\n",
              "\n",
              "          const docLinkHtml = 'Like what you see? Visit the ' +\n",
              "            '<a target=\"_blank\" href=https://colab.research.google.com/notebooks/data_table.ipynb>data table notebook</a>'\n",
              "            + ' to learn more about interactive tables.';\n",
              "          element.innerHTML = '';\n",
              "          dataTable['output_type'] = 'display_data';\n",
              "          await google.colab.output.renderOutput(dataTable, element);\n",
              "          const docLink = document.createElement('div');\n",
              "          docLink.innerHTML = docLinkHtml;\n",
              "          element.appendChild(docLink);\n",
              "        }\n",
              "      </script>\n",
              "    </div>\n",
              "  </div>\n",
              "  "
            ]
          },
          "metadata": {},
          "execution_count": 12
        }
      ]
    },
    {
      "cell_type": "code",
      "source": [
        "movieinfo_genre_data.genre_0.unique()"
      ],
      "metadata": {
        "colab": {
          "base_uri": "https://localhost:8080/"
        },
        "id": "dhh0KueWxuzQ",
        "outputId": "61364f42-08ce-4c68-d2bf-a1246cf31967"
      },
      "execution_count": 13,
      "outputs": [
        {
          "output_type": "execute_result",
          "data": {
            "text/plain": [
              "array(['Comedy', 'Adventure', 'Action', 'Drama', 'Science', 'Animation',\n",
              "       'Music', 'Crime', 'Romance', 'Thriller', 'Mystery', 'History',\n",
              "       'War', 'Fantasy', 'Family', 'Documentary', 'Horror', 'Western',\n",
              "       'TV', 'Foreign'], dtype=object)"
            ]
          },
          "metadata": {},
          "execution_count": 13
        }
      ]
    },
    {
      "cell_type": "code",
      "source": [
        "movieinfo_genre_data.genre_0.value_counts()"
      ],
      "metadata": {
        "colab": {
          "base_uri": "https://localhost:8080/"
        },
        "id": "Kp-kDfYBxuue",
        "outputId": "8df7e3f0-3873-48c5-b5b9-39766509fa51"
      },
      "execution_count": 14,
      "outputs": [
        {
          "output_type": "execute_result",
          "data": {
            "text/plain": [
              "Drama          7597\n",
              "Comedy         5398\n",
              "Action         2897\n",
              "Documentary    1850\n",
              "Horror         1519\n",
              "Crime          1088\n",
              "Adventure      1013\n",
              "Thriller        805\n",
              "Romance         626\n",
              "Animation       568\n",
              "Fantasy         457\n",
              "Science         350\n",
              "Mystery         298\n",
              "Music           271\n",
              "Western         242\n",
              "War             238\n",
              "Family          227\n",
              "History         160\n",
              "TV              138\n",
              "Foreign          37\n",
              "Name: genre_0, dtype: int64"
            ]
          },
          "metadata": {},
          "execution_count": 14
        }
      ]
    },
    {
      "cell_type": "markdown",
      "source": [
        "# Load Ratings Data"
      ],
      "metadata": {
        "id": "uP0iBKjSw1yy"
      }
    },
    {
      "cell_type": "code",
      "source": [
        "ratings_data =pd.read_csv(\"./data/cleaned_rating_data.csv\",header=None,\n",
        "                          names=[\"DateTime\",\"User_ID\",\"Movie_ID\",\"Rating\"],skiprows=1)\n",
        "\n",
        "ratings_data.head()"
      ],
      "metadata": {
        "colab": {
          "base_uri": "https://localhost:8080/",
          "height": 206
        },
        "id": "zrqqBDZswwsa",
        "outputId": "32f59333-d1df-46b3-c513-ea6def26a5e3"
      },
      "execution_count": 15,
      "outputs": [
        {
          "output_type": "execute_result",
          "data": {
            "text/plain": [
              "              DateTime  User_ID                          Movie_ID  Rating\n",
              "0  2022-10-28T03:25:44   256889  the+cave+of+the+golden+rose+1991       4\n",
              "1  2022-10-28T03:25:44   532887                   conception+2011       4\n",
              "2  2022-10-28T03:25:44   570513                the+godfather+1972       4\n",
              "3  2022-10-28T03:25:45    85424                    chinatown+1974       5\n",
              "4  2022-10-28T03:25:45   621913                 12+angry+men+1957       4"
            ],
            "text/html": [
              "\n",
              "  <div id=\"df-af645ff8-da4b-4e94-b240-f6c23ddad260\">\n",
              "    <div class=\"colab-df-container\">\n",
              "      <div>\n",
              "<style scoped>\n",
              "    .dataframe tbody tr th:only-of-type {\n",
              "        vertical-align: middle;\n",
              "    }\n",
              "\n",
              "    .dataframe tbody tr th {\n",
              "        vertical-align: top;\n",
              "    }\n",
              "\n",
              "    .dataframe thead th {\n",
              "        text-align: right;\n",
              "    }\n",
              "</style>\n",
              "<table border=\"1\" class=\"dataframe\">\n",
              "  <thead>\n",
              "    <tr style=\"text-align: right;\">\n",
              "      <th></th>\n",
              "      <th>DateTime</th>\n",
              "      <th>User_ID</th>\n",
              "      <th>Movie_ID</th>\n",
              "      <th>Rating</th>\n",
              "    </tr>\n",
              "  </thead>\n",
              "  <tbody>\n",
              "    <tr>\n",
              "      <th>0</th>\n",
              "      <td>2022-10-28T03:25:44</td>\n",
              "      <td>256889</td>\n",
              "      <td>the+cave+of+the+golden+rose+1991</td>\n",
              "      <td>4</td>\n",
              "    </tr>\n",
              "    <tr>\n",
              "      <th>1</th>\n",
              "      <td>2022-10-28T03:25:44</td>\n",
              "      <td>532887</td>\n",
              "      <td>conception+2011</td>\n",
              "      <td>4</td>\n",
              "    </tr>\n",
              "    <tr>\n",
              "      <th>2</th>\n",
              "      <td>2022-10-28T03:25:44</td>\n",
              "      <td>570513</td>\n",
              "      <td>the+godfather+1972</td>\n",
              "      <td>4</td>\n",
              "    </tr>\n",
              "    <tr>\n",
              "      <th>3</th>\n",
              "      <td>2022-10-28T03:25:45</td>\n",
              "      <td>85424</td>\n",
              "      <td>chinatown+1974</td>\n",
              "      <td>5</td>\n",
              "    </tr>\n",
              "    <tr>\n",
              "      <th>4</th>\n",
              "      <td>2022-10-28T03:25:45</td>\n",
              "      <td>621913</td>\n",
              "      <td>12+angry+men+1957</td>\n",
              "      <td>4</td>\n",
              "    </tr>\n",
              "  </tbody>\n",
              "</table>\n",
              "</div>\n",
              "      <button class=\"colab-df-convert\" onclick=\"convertToInteractive('df-af645ff8-da4b-4e94-b240-f6c23ddad260')\"\n",
              "              title=\"Convert this dataframe to an interactive table.\"\n",
              "              style=\"display:none;\">\n",
              "        \n",
              "  <svg xmlns=\"http://www.w3.org/2000/svg\" height=\"24px\"viewBox=\"0 0 24 24\"\n",
              "       width=\"24px\">\n",
              "    <path d=\"M0 0h24v24H0V0z\" fill=\"none\"/>\n",
              "    <path d=\"M18.56 5.44l.94 2.06.94-2.06 2.06-.94-2.06-.94-.94-2.06-.94 2.06-2.06.94zm-11 1L8.5 8.5l.94-2.06 2.06-.94-2.06-.94L8.5 2.5l-.94 2.06-2.06.94zm10 10l.94 2.06.94-2.06 2.06-.94-2.06-.94-.94-2.06-.94 2.06-2.06.94z\"/><path d=\"M17.41 7.96l-1.37-1.37c-.4-.4-.92-.59-1.43-.59-.52 0-1.04.2-1.43.59L10.3 9.45l-7.72 7.72c-.78.78-.78 2.05 0 2.83L4 21.41c.39.39.9.59 1.41.59.51 0 1.02-.2 1.41-.59l7.78-7.78 2.81-2.81c.8-.78.8-2.07 0-2.86zM5.41 20L4 18.59l7.72-7.72 1.47 1.35L5.41 20z\"/>\n",
              "  </svg>\n",
              "      </button>\n",
              "      \n",
              "  <style>\n",
              "    .colab-df-container {\n",
              "      display:flex;\n",
              "      flex-wrap:wrap;\n",
              "      gap: 12px;\n",
              "    }\n",
              "\n",
              "    .colab-df-convert {\n",
              "      background-color: #E8F0FE;\n",
              "      border: none;\n",
              "      border-radius: 50%;\n",
              "      cursor: pointer;\n",
              "      display: none;\n",
              "      fill: #1967D2;\n",
              "      height: 32px;\n",
              "      padding: 0 0 0 0;\n",
              "      width: 32px;\n",
              "    }\n",
              "\n",
              "    .colab-df-convert:hover {\n",
              "      background-color: #E2EBFA;\n",
              "      box-shadow: 0px 1px 2px rgba(60, 64, 67, 0.3), 0px 1px 3px 1px rgba(60, 64, 67, 0.15);\n",
              "      fill: #174EA6;\n",
              "    }\n",
              "\n",
              "    [theme=dark] .colab-df-convert {\n",
              "      background-color: #3B4455;\n",
              "      fill: #D2E3FC;\n",
              "    }\n",
              "\n",
              "    [theme=dark] .colab-df-convert:hover {\n",
              "      background-color: #434B5C;\n",
              "      box-shadow: 0px 1px 3px 1px rgba(0, 0, 0, 0.15);\n",
              "      filter: drop-shadow(0px 1px 2px rgba(0, 0, 0, 0.3));\n",
              "      fill: #FFFFFF;\n",
              "    }\n",
              "  </style>\n",
              "\n",
              "      <script>\n",
              "        const buttonEl =\n",
              "          document.querySelector('#df-af645ff8-da4b-4e94-b240-f6c23ddad260 button.colab-df-convert');\n",
              "        buttonEl.style.display =\n",
              "          google.colab.kernel.accessAllowed ? 'block' : 'none';\n",
              "\n",
              "        async function convertToInteractive(key) {\n",
              "          const element = document.querySelector('#df-af645ff8-da4b-4e94-b240-f6c23ddad260');\n",
              "          const dataTable =\n",
              "            await google.colab.kernel.invokeFunction('convertToInteractive',\n",
              "                                                     [key], {});\n",
              "          if (!dataTable) return;\n",
              "\n",
              "          const docLinkHtml = 'Like what you see? Visit the ' +\n",
              "            '<a target=\"_blank\" href=https://colab.research.google.com/notebooks/data_table.ipynb>data table notebook</a>'\n",
              "            + ' to learn more about interactive tables.';\n",
              "          element.innerHTML = '';\n",
              "          dataTable['output_type'] = 'display_data';\n",
              "          await google.colab.output.renderOutput(dataTable, element);\n",
              "          const docLink = document.createElement('div');\n",
              "          docLink.innerHTML = docLinkHtml;\n",
              "          element.appendChild(docLink);\n",
              "        }\n",
              "      </script>\n",
              "    </div>\n",
              "  </div>\n",
              "  "
            ]
          },
          "metadata": {},
          "execution_count": 15
        }
      ]
    },
    {
      "cell_type": "code",
      "source": [
        "ratings_data.info()"
      ],
      "metadata": {
        "colab": {
          "base_uri": "https://localhost:8080/"
        },
        "id": "pP4WpEZMxGLp",
        "outputId": "6b93dde3-b25a-458c-fdeb-2566b8022ace"
      },
      "execution_count": 16,
      "outputs": [
        {
          "output_type": "stream",
          "name": "stdout",
          "text": [
            "<class 'pandas.core.frame.DataFrame'>\n",
            "Int64Index: 1999819 entries, 0 to 1999818\n",
            "Data columns (total 4 columns):\n",
            " #   Column    Dtype \n",
            "---  ------    ----- \n",
            " 0   DateTime  object\n",
            " 1   User_ID   int64 \n",
            " 2   Movie_ID  object\n",
            " 3   Rating    int64 \n",
            "dtypes: int64(2), object(2)\n",
            "memory usage: 76.3+ MB\n"
          ]
        }
      ]
    },
    {
      "cell_type": "code",
      "source": [
        "ratings_data['DateTime'] = pd.to_datetime(ratings_data['DateTime'],errors='coerce')\n",
        "dateNaNs = ratings_data[ratings_data['DateTime'].isna()].index \n",
        "ratings_data = ratings_data.drop(index=dateNaNs).set_index(keys = \"DateTime\")\n",
        "ratings_data.info()"
      ],
      "metadata": {
        "colab": {
          "base_uri": "https://localhost:8080/"
        },
        "id": "2UYQbCm2xKZj",
        "outputId": "0ca1983f-7b22-4850-f018-2400a4c80fb9"
      },
      "execution_count": 17,
      "outputs": [
        {
          "output_type": "stream",
          "name": "stderr",
          "text": [
            "/usr/local/lib/python3.7/dist-packages/dateutil/parser/_parser.py:1212: UnknownTimezoneWarning: tzname T identified but not understood.  Pass `tzinfos` argument in order to correctly return a timezone-aware datetime.  In a future version, this will raise an exception.\n",
            "  category=UnknownTimezoneWarning)\n"
          ]
        },
        {
          "output_type": "stream",
          "name": "stdout",
          "text": [
            "<class 'pandas.core.frame.DataFrame'>\n",
            "DatetimeIndex: 1999732 entries, 2022-10-28 03:25:44 to 2022-11-02 02:07:09\n",
            "Data columns (total 3 columns):\n",
            " #   Column    Dtype \n",
            "---  ------    ----- \n",
            " 0   User_ID   int64 \n",
            " 1   Movie_ID  object\n",
            " 2   Rating    int64 \n",
            "dtypes: int64(2), object(1)\n",
            "memory usage: 61.0+ MB\n"
          ]
        }
      ]
    },
    {
      "cell_type": "code",
      "source": [
        "ratings_data.User_ID.nunique()"
      ],
      "metadata": {
        "colab": {
          "base_uri": "https://localhost:8080/"
        },
        "id": "rnowVz0IxVVX",
        "outputId": "025a513c-78d2-4bf9-bbb6-b924a8a53021"
      },
      "execution_count": 18,
      "outputs": [
        {
          "output_type": "execute_result",
          "data": {
            "text/plain": [
              "649268"
            ]
          },
          "metadata": {},
          "execution_count": 18
        }
      ]
    },
    {
      "cell_type": "code",
      "source": [
        "ratings_data.Movie_ID.nunique()"
      ],
      "metadata": {
        "colab": {
          "base_uri": "https://localhost:8080/"
        },
        "id": "8nLpc7a1xfkV",
        "outputId": "ef53e90a-f6bc-4803-ee09-dd8d6ac90407"
      },
      "execution_count": 19,
      "outputs": [
        {
          "output_type": "execute_result",
          "data": {
            "text/plain": [
              "26708"
            ]
          },
          "metadata": {},
          "execution_count": 19
        }
      ]
    },
    {
      "cell_type": "markdown",
      "source": [
        "# Join Ratings Data with User and Movie Genre Info"
      ],
      "metadata": {
        "id": "Azsvi5vj0D80"
      }
    },
    {
      "cell_type": "code",
      "source": [
        "combined_data = pd.merge(ratings_data,user_data)\n",
        "combined_data.head()"
      ],
      "metadata": {
        "colab": {
          "base_uri": "https://localhost:8080/",
          "height": 206
        },
        "id": "VKpPQOR6xjjt",
        "outputId": "57560e62-5fa7-482d-8e94-10812c448faf"
      },
      "execution_count": 20,
      "outputs": [
        {
          "output_type": "execute_result",
          "data": {
            "text/plain": [
              "   User_ID                          Movie_ID  Rating  Age  \\\n",
              "0   256889  the+cave+of+the+golden+rose+1991       4   33   \n",
              "1   256889             sister+my+sister+1994       4   33   \n",
              "2   256889        cat+on+a+hot+tin+roof+1958       4   33   \n",
              "3   256889           better+off+dead...+1985       4   33   \n",
              "4   256889               into+the+woods+1991       3   33   \n",
              "\n",
              "             Occupation Gender  \n",
              "0  college/grad student      F  \n",
              "1  college/grad student      F  \n",
              "2  college/grad student      F  \n",
              "3  college/grad student      F  \n",
              "4  college/grad student      F  "
            ],
            "text/html": [
              "\n",
              "  <div id=\"df-6803e29f-9c5c-43b5-885d-0d4bb854bad9\">\n",
              "    <div class=\"colab-df-container\">\n",
              "      <div>\n",
              "<style scoped>\n",
              "    .dataframe tbody tr th:only-of-type {\n",
              "        vertical-align: middle;\n",
              "    }\n",
              "\n",
              "    .dataframe tbody tr th {\n",
              "        vertical-align: top;\n",
              "    }\n",
              "\n",
              "    .dataframe thead th {\n",
              "        text-align: right;\n",
              "    }\n",
              "</style>\n",
              "<table border=\"1\" class=\"dataframe\">\n",
              "  <thead>\n",
              "    <tr style=\"text-align: right;\">\n",
              "      <th></th>\n",
              "      <th>User_ID</th>\n",
              "      <th>Movie_ID</th>\n",
              "      <th>Rating</th>\n",
              "      <th>Age</th>\n",
              "      <th>Occupation</th>\n",
              "      <th>Gender</th>\n",
              "    </tr>\n",
              "  </thead>\n",
              "  <tbody>\n",
              "    <tr>\n",
              "      <th>0</th>\n",
              "      <td>256889</td>\n",
              "      <td>the+cave+of+the+golden+rose+1991</td>\n",
              "      <td>4</td>\n",
              "      <td>33</td>\n",
              "      <td>college/grad student</td>\n",
              "      <td>F</td>\n",
              "    </tr>\n",
              "    <tr>\n",
              "      <th>1</th>\n",
              "      <td>256889</td>\n",
              "      <td>sister+my+sister+1994</td>\n",
              "      <td>4</td>\n",
              "      <td>33</td>\n",
              "      <td>college/grad student</td>\n",
              "      <td>F</td>\n",
              "    </tr>\n",
              "    <tr>\n",
              "      <th>2</th>\n",
              "      <td>256889</td>\n",
              "      <td>cat+on+a+hot+tin+roof+1958</td>\n",
              "      <td>4</td>\n",
              "      <td>33</td>\n",
              "      <td>college/grad student</td>\n",
              "      <td>F</td>\n",
              "    </tr>\n",
              "    <tr>\n",
              "      <th>3</th>\n",
              "      <td>256889</td>\n",
              "      <td>better+off+dead...+1985</td>\n",
              "      <td>4</td>\n",
              "      <td>33</td>\n",
              "      <td>college/grad student</td>\n",
              "      <td>F</td>\n",
              "    </tr>\n",
              "    <tr>\n",
              "      <th>4</th>\n",
              "      <td>256889</td>\n",
              "      <td>into+the+woods+1991</td>\n",
              "      <td>3</td>\n",
              "      <td>33</td>\n",
              "      <td>college/grad student</td>\n",
              "      <td>F</td>\n",
              "    </tr>\n",
              "  </tbody>\n",
              "</table>\n",
              "</div>\n",
              "      <button class=\"colab-df-convert\" onclick=\"convertToInteractive('df-6803e29f-9c5c-43b5-885d-0d4bb854bad9')\"\n",
              "              title=\"Convert this dataframe to an interactive table.\"\n",
              "              style=\"display:none;\">\n",
              "        \n",
              "  <svg xmlns=\"http://www.w3.org/2000/svg\" height=\"24px\"viewBox=\"0 0 24 24\"\n",
              "       width=\"24px\">\n",
              "    <path d=\"M0 0h24v24H0V0z\" fill=\"none\"/>\n",
              "    <path d=\"M18.56 5.44l.94 2.06.94-2.06 2.06-.94-2.06-.94-.94-2.06-.94 2.06-2.06.94zm-11 1L8.5 8.5l.94-2.06 2.06-.94-2.06-.94L8.5 2.5l-.94 2.06-2.06.94zm10 10l.94 2.06.94-2.06 2.06-.94-2.06-.94-.94-2.06-.94 2.06-2.06.94z\"/><path d=\"M17.41 7.96l-1.37-1.37c-.4-.4-.92-.59-1.43-.59-.52 0-1.04.2-1.43.59L10.3 9.45l-7.72 7.72c-.78.78-.78 2.05 0 2.83L4 21.41c.39.39.9.59 1.41.59.51 0 1.02-.2 1.41-.59l7.78-7.78 2.81-2.81c.8-.78.8-2.07 0-2.86zM5.41 20L4 18.59l7.72-7.72 1.47 1.35L5.41 20z\"/>\n",
              "  </svg>\n",
              "      </button>\n",
              "      \n",
              "  <style>\n",
              "    .colab-df-container {\n",
              "      display:flex;\n",
              "      flex-wrap:wrap;\n",
              "      gap: 12px;\n",
              "    }\n",
              "\n",
              "    .colab-df-convert {\n",
              "      background-color: #E8F0FE;\n",
              "      border: none;\n",
              "      border-radius: 50%;\n",
              "      cursor: pointer;\n",
              "      display: none;\n",
              "      fill: #1967D2;\n",
              "      height: 32px;\n",
              "      padding: 0 0 0 0;\n",
              "      width: 32px;\n",
              "    }\n",
              "\n",
              "    .colab-df-convert:hover {\n",
              "      background-color: #E2EBFA;\n",
              "      box-shadow: 0px 1px 2px rgba(60, 64, 67, 0.3), 0px 1px 3px 1px rgba(60, 64, 67, 0.15);\n",
              "      fill: #174EA6;\n",
              "    }\n",
              "\n",
              "    [theme=dark] .colab-df-convert {\n",
              "      background-color: #3B4455;\n",
              "      fill: #D2E3FC;\n",
              "    }\n",
              "\n",
              "    [theme=dark] .colab-df-convert:hover {\n",
              "      background-color: #434B5C;\n",
              "      box-shadow: 0px 1px 3px 1px rgba(0, 0, 0, 0.15);\n",
              "      filter: drop-shadow(0px 1px 2px rgba(0, 0, 0, 0.3));\n",
              "      fill: #FFFFFF;\n",
              "    }\n",
              "  </style>\n",
              "\n",
              "      <script>\n",
              "        const buttonEl =\n",
              "          document.querySelector('#df-6803e29f-9c5c-43b5-885d-0d4bb854bad9 button.colab-df-convert');\n",
              "        buttonEl.style.display =\n",
              "          google.colab.kernel.accessAllowed ? 'block' : 'none';\n",
              "\n",
              "        async function convertToInteractive(key) {\n",
              "          const element = document.querySelector('#df-6803e29f-9c5c-43b5-885d-0d4bb854bad9');\n",
              "          const dataTable =\n",
              "            await google.colab.kernel.invokeFunction('convertToInteractive',\n",
              "                                                     [key], {});\n",
              "          if (!dataTable) return;\n",
              "\n",
              "          const docLinkHtml = 'Like what you see? Visit the ' +\n",
              "            '<a target=\"_blank\" href=https://colab.research.google.com/notebooks/data_table.ipynb>data table notebook</a>'\n",
              "            + ' to learn more about interactive tables.';\n",
              "          element.innerHTML = '';\n",
              "          dataTable['output_type'] = 'display_data';\n",
              "          await google.colab.output.renderOutput(dataTable, element);\n",
              "          const docLink = document.createElement('div');\n",
              "          docLink.innerHTML = docLinkHtml;\n",
              "          element.appendChild(docLink);\n",
              "        }\n",
              "      </script>\n",
              "    </div>\n",
              "  </div>\n",
              "  "
            ]
          },
          "metadata": {},
          "execution_count": 20
        }
      ]
    },
    {
      "cell_type": "code",
      "source": [
        "combined_data.User_ID.nunique()"
      ],
      "metadata": {
        "colab": {
          "base_uri": "https://localhost:8080/"
        },
        "id": "CsDfxrPZxrsD",
        "outputId": "b95269b1-4686-4db1-cf7a-35c84c5f9205"
      },
      "execution_count": 21,
      "outputs": [
        {
          "output_type": "execute_result",
          "data": {
            "text/plain": [
              "649261"
            ]
          },
          "metadata": {},
          "execution_count": 21
        }
      ]
    },
    {
      "cell_type": "code",
      "source": [
        "combined_data = pd.merge(combined_data,movieinfo_genre_data,left_on=\"Movie_ID\",right_on=\"id\")\n",
        "combined_data = combined_data.drop(columns=[\"id\",\"original_title\"]).rename(columns={\"genre_0\":\"Genre\"})\n",
        "combined_data = pd.concat([combined_data.drop(columns=\"Rating\"),combined_data[\"Rating\"]],axis=1)\n",
        "combined_data.head()"
      ],
      "metadata": {
        "colab": {
          "base_uri": "https://localhost:8080/",
          "height": 206
        },
        "id": "4odXe9oh0hYK",
        "outputId": "9ca3141a-e1ff-4d14-b324-66f183ef440a"
      },
      "execution_count": 22,
      "outputs": [
        {
          "output_type": "execute_result",
          "data": {
            "text/plain": [
              "   User_ID                          Movie_ID  Age            Occupation  \\\n",
              "0   256889  the+cave+of+the+golden+rose+1991   33  college/grad student   \n",
              "1   704061  the+cave+of+the+golden+rose+1991   29       sales/marketing   \n",
              "2   743279  the+cave+of+the+golden+rose+1991   33  executive/managerial   \n",
              "3   657376  the+cave+of+the+golden+rose+1991   32  college/grad student   \n",
              "4   504412  the+cave+of+the+golden+rose+1991   23  college/grad student   \n",
              "\n",
              "  Gender      Genre  Rating  \n",
              "0      F  Adventure       4  \n",
              "1      M  Adventure       3  \n",
              "2      M  Adventure       4  \n",
              "3      M  Adventure       4  \n",
              "4      M  Adventure       5  "
            ],
            "text/html": [
              "\n",
              "  <div id=\"df-64ffc62d-e829-4d18-9a6a-aff6b49d40ae\">\n",
              "    <div class=\"colab-df-container\">\n",
              "      <div>\n",
              "<style scoped>\n",
              "    .dataframe tbody tr th:only-of-type {\n",
              "        vertical-align: middle;\n",
              "    }\n",
              "\n",
              "    .dataframe tbody tr th {\n",
              "        vertical-align: top;\n",
              "    }\n",
              "\n",
              "    .dataframe thead th {\n",
              "        text-align: right;\n",
              "    }\n",
              "</style>\n",
              "<table border=\"1\" class=\"dataframe\">\n",
              "  <thead>\n",
              "    <tr style=\"text-align: right;\">\n",
              "      <th></th>\n",
              "      <th>User_ID</th>\n",
              "      <th>Movie_ID</th>\n",
              "      <th>Age</th>\n",
              "      <th>Occupation</th>\n",
              "      <th>Gender</th>\n",
              "      <th>Genre</th>\n",
              "      <th>Rating</th>\n",
              "    </tr>\n",
              "  </thead>\n",
              "  <tbody>\n",
              "    <tr>\n",
              "      <th>0</th>\n",
              "      <td>256889</td>\n",
              "      <td>the+cave+of+the+golden+rose+1991</td>\n",
              "      <td>33</td>\n",
              "      <td>college/grad student</td>\n",
              "      <td>F</td>\n",
              "      <td>Adventure</td>\n",
              "      <td>4</td>\n",
              "    </tr>\n",
              "    <tr>\n",
              "      <th>1</th>\n",
              "      <td>704061</td>\n",
              "      <td>the+cave+of+the+golden+rose+1991</td>\n",
              "      <td>29</td>\n",
              "      <td>sales/marketing</td>\n",
              "      <td>M</td>\n",
              "      <td>Adventure</td>\n",
              "      <td>3</td>\n",
              "    </tr>\n",
              "    <tr>\n",
              "      <th>2</th>\n",
              "      <td>743279</td>\n",
              "      <td>the+cave+of+the+golden+rose+1991</td>\n",
              "      <td>33</td>\n",
              "      <td>executive/managerial</td>\n",
              "      <td>M</td>\n",
              "      <td>Adventure</td>\n",
              "      <td>4</td>\n",
              "    </tr>\n",
              "    <tr>\n",
              "      <th>3</th>\n",
              "      <td>657376</td>\n",
              "      <td>the+cave+of+the+golden+rose+1991</td>\n",
              "      <td>32</td>\n",
              "      <td>college/grad student</td>\n",
              "      <td>M</td>\n",
              "      <td>Adventure</td>\n",
              "      <td>4</td>\n",
              "    </tr>\n",
              "    <tr>\n",
              "      <th>4</th>\n",
              "      <td>504412</td>\n",
              "      <td>the+cave+of+the+golden+rose+1991</td>\n",
              "      <td>23</td>\n",
              "      <td>college/grad student</td>\n",
              "      <td>M</td>\n",
              "      <td>Adventure</td>\n",
              "      <td>5</td>\n",
              "    </tr>\n",
              "  </tbody>\n",
              "</table>\n",
              "</div>\n",
              "      <button class=\"colab-df-convert\" onclick=\"convertToInteractive('df-64ffc62d-e829-4d18-9a6a-aff6b49d40ae')\"\n",
              "              title=\"Convert this dataframe to an interactive table.\"\n",
              "              style=\"display:none;\">\n",
              "        \n",
              "  <svg xmlns=\"http://www.w3.org/2000/svg\" height=\"24px\"viewBox=\"0 0 24 24\"\n",
              "       width=\"24px\">\n",
              "    <path d=\"M0 0h24v24H0V0z\" fill=\"none\"/>\n",
              "    <path d=\"M18.56 5.44l.94 2.06.94-2.06 2.06-.94-2.06-.94-.94-2.06-.94 2.06-2.06.94zm-11 1L8.5 8.5l.94-2.06 2.06-.94-2.06-.94L8.5 2.5l-.94 2.06-2.06.94zm10 10l.94 2.06.94-2.06 2.06-.94-2.06-.94-.94-2.06-.94 2.06-2.06.94z\"/><path d=\"M17.41 7.96l-1.37-1.37c-.4-.4-.92-.59-1.43-.59-.52 0-1.04.2-1.43.59L10.3 9.45l-7.72 7.72c-.78.78-.78 2.05 0 2.83L4 21.41c.39.39.9.59 1.41.59.51 0 1.02-.2 1.41-.59l7.78-7.78 2.81-2.81c.8-.78.8-2.07 0-2.86zM5.41 20L4 18.59l7.72-7.72 1.47 1.35L5.41 20z\"/>\n",
              "  </svg>\n",
              "      </button>\n",
              "      \n",
              "  <style>\n",
              "    .colab-df-container {\n",
              "      display:flex;\n",
              "      flex-wrap:wrap;\n",
              "      gap: 12px;\n",
              "    }\n",
              "\n",
              "    .colab-df-convert {\n",
              "      background-color: #E8F0FE;\n",
              "      border: none;\n",
              "      border-radius: 50%;\n",
              "      cursor: pointer;\n",
              "      display: none;\n",
              "      fill: #1967D2;\n",
              "      height: 32px;\n",
              "      padding: 0 0 0 0;\n",
              "      width: 32px;\n",
              "    }\n",
              "\n",
              "    .colab-df-convert:hover {\n",
              "      background-color: #E2EBFA;\n",
              "      box-shadow: 0px 1px 2px rgba(60, 64, 67, 0.3), 0px 1px 3px 1px rgba(60, 64, 67, 0.15);\n",
              "      fill: #174EA6;\n",
              "    }\n",
              "\n",
              "    [theme=dark] .colab-df-convert {\n",
              "      background-color: #3B4455;\n",
              "      fill: #D2E3FC;\n",
              "    }\n",
              "\n",
              "    [theme=dark] .colab-df-convert:hover {\n",
              "      background-color: #434B5C;\n",
              "      box-shadow: 0px 1px 3px 1px rgba(0, 0, 0, 0.15);\n",
              "      filter: drop-shadow(0px 1px 2px rgba(0, 0, 0, 0.3));\n",
              "      fill: #FFFFFF;\n",
              "    }\n",
              "  </style>\n",
              "\n",
              "      <script>\n",
              "        const buttonEl =\n",
              "          document.querySelector('#df-64ffc62d-e829-4d18-9a6a-aff6b49d40ae button.colab-df-convert');\n",
              "        buttonEl.style.display =\n",
              "          google.colab.kernel.accessAllowed ? 'block' : 'none';\n",
              "\n",
              "        async function convertToInteractive(key) {\n",
              "          const element = document.querySelector('#df-64ffc62d-e829-4d18-9a6a-aff6b49d40ae');\n",
              "          const dataTable =\n",
              "            await google.colab.kernel.invokeFunction('convertToInteractive',\n",
              "                                                     [key], {});\n",
              "          if (!dataTable) return;\n",
              "\n",
              "          const docLinkHtml = 'Like what you see? Visit the ' +\n",
              "            '<a target=\"_blank\" href=https://colab.research.google.com/notebooks/data_table.ipynb>data table notebook</a>'\n",
              "            + ' to learn more about interactive tables.';\n",
              "          element.innerHTML = '';\n",
              "          dataTable['output_type'] = 'display_data';\n",
              "          await google.colab.output.renderOutput(dataTable, element);\n",
              "          const docLink = document.createElement('div');\n",
              "          docLink.innerHTML = docLinkHtml;\n",
              "          element.appendChild(docLink);\n",
              "        }\n",
              "      </script>\n",
              "    </div>\n",
              "  </div>\n",
              "  "
            ]
          },
          "metadata": {},
          "execution_count": 22
        }
      ]
    },
    {
      "cell_type": "code",
      "source": [
        "combined_data.Movie_ID.nunique()"
      ],
      "metadata": {
        "colab": {
          "base_uri": "https://localhost:8080/"
        },
        "id": "1i8d88Sx00MC",
        "outputId": "eaa36723-98b0-4dcb-f6b0-8bb193f9a649"
      },
      "execution_count": 23,
      "outputs": [
        {
          "output_type": "execute_result",
          "data": {
            "text/plain": [
              "25506"
            ]
          },
          "metadata": {},
          "execution_count": 23
        }
      ]
    },
    {
      "cell_type": "code",
      "source": [
        "combined_data.User_ID.nunique()"
      ],
      "metadata": {
        "colab": {
          "base_uri": "https://localhost:8080/"
        },
        "id": "04VRfUhg1xqN",
        "outputId": "0d9aadac-930a-4833-b91a-0a092aa20fe8"
      },
      "execution_count": 24,
      "outputs": [
        {
          "output_type": "execute_result",
          "data": {
            "text/plain": [
              "646971"
            ]
          },
          "metadata": {},
          "execution_count": 24
        }
      ]
    },
    {
      "cell_type": "code",
      "source": [
        "combined_data.Gender.value_counts()"
      ],
      "metadata": {
        "colab": {
          "base_uri": "https://localhost:8080/"
        },
        "id": "vlRyqUSS1y_h",
        "outputId": "8f3463e9-eea2-44df-87f9-96e2750971a7"
      },
      "execution_count": 25,
      "outputs": [
        {
          "output_type": "execute_result",
          "data": {
            "text/plain": [
              "M    1634478\n",
              "F     335529\n",
              "Name: Gender, dtype: int64"
            ]
          },
          "metadata": {},
          "execution_count": 25
        }
      ]
    },
    {
      "cell_type": "code",
      "source": [
        "combined_data.Occupation.value_counts()"
      ],
      "metadata": {
        "colab": {
          "base_uri": "https://localhost:8080/"
        },
        "id": "d4RV614Q14SK",
        "outputId": "ab6dc21c-9c80-403e-9b4f-d8a1818be8ef"
      },
      "execution_count": 26,
      "outputs": [
        {
          "output_type": "execute_result",
          "data": {
            "text/plain": [
              "college/grad student      476261\n",
              "executive/managerial      377211\n",
              "sales/marketing           262251\n",
              "scientist                 186867\n",
              "other or not specified    132238\n",
              "self-employed             132208\n",
              "academic/educator          75054\n",
              "K-12 student               70444\n",
              "homemaker                  55618\n",
              "artist                     42466\n",
              "clerical/admin             33638\n",
              "retired                    33608\n",
              "technician/engineer        27823\n",
              "programmer                 21668\n",
              "tradesman/craftsman        11382\n",
              "writer                      8155\n",
              "lawyer                      6885\n",
              "doctor/health care          6313\n",
              "customer service            5436\n",
              "unemployed                  3721\n",
              "farmer                       760\n",
              "Name: Occupation, dtype: int64"
            ]
          },
          "metadata": {},
          "execution_count": 26
        }
      ]
    },
    {
      "cell_type": "code",
      "source": [
        "combined_data.Genre.value_counts()"
      ],
      "metadata": {
        "colab": {
          "base_uri": "https://localhost:8080/"
        },
        "id": "o2aDdkYp17Rd",
        "outputId": "da09a4a1-d396-4725-c45d-70c0dcd9a25e"
      },
      "execution_count": 27,
      "outputs": [
        {
          "output_type": "execute_result",
          "data": {
            "text/plain": [
              "Drama          738860\n",
              "Comedy         272916\n",
              "Adventure      189568\n",
              "Documentary    148115\n",
              "Action         147106\n",
              "Crime          126304\n",
              "Animation       78939\n",
              "Thriller        50377\n",
              "Mystery         44800\n",
              "Fantasy         42966\n",
              "Horror          40694\n",
              "Science         18535\n",
              "Western         17866\n",
              "Romance         15991\n",
              "Family          13935\n",
              "War              7535\n",
              "History          6438\n",
              "Music            5382\n",
              "TV               3149\n",
              "Foreign           531\n",
              "Name: Genre, dtype: int64"
            ]
          },
          "metadata": {},
          "execution_count": 27
        }
      ]
    },
    {
      "cell_type": "code",
      "source": [
        "combined_data.Rating.value_counts()"
      ],
      "metadata": {
        "colab": {
          "base_uri": "https://localhost:8080/"
        },
        "id": "6EKjDOS42BOc",
        "outputId": "8226165d-b714-47a8-cfad-23a8f72b8133"
      },
      "execution_count": 28,
      "outputs": [
        {
          "output_type": "execute_result",
          "data": {
            "text/plain": [
              "4    1048094\n",
              "5     475974\n",
              "3     408921\n",
              "2      35732\n",
              "1       1286\n",
              "Name: Rating, dtype: int64"
            ]
          },
          "metadata": {},
          "execution_count": 28
        }
      ]
    },
    {
      "cell_type": "markdown",
      "source": [
        "\n",
        "# Clean and Prepare data for the ML Model"
      ],
      "metadata": {
        "id": "Z0aKQAzJ_7j3"
      }
    },
    {
      "cell_type": "code",
      "source": [
        "combined_data[\"User_Movie\"] = combined_data[\"User_ID\"].astype(str) + \"-\" + combined_data[\"Movie_ID\"]\n",
        "combined_data.head()"
      ],
      "metadata": {
        "colab": {
          "base_uri": "https://localhost:8080/",
          "height": 206
        },
        "id": "kTImQqTm_7A3",
        "outputId": "161ae54c-b5f1-4515-ca46-ff32dfcbac16"
      },
      "execution_count": 29,
      "outputs": [
        {
          "output_type": "execute_result",
          "data": {
            "text/plain": [
              "   User_ID                          Movie_ID  Age            Occupation  \\\n",
              "0   256889  the+cave+of+the+golden+rose+1991   33  college/grad student   \n",
              "1   704061  the+cave+of+the+golden+rose+1991   29       sales/marketing   \n",
              "2   743279  the+cave+of+the+golden+rose+1991   33  executive/managerial   \n",
              "3   657376  the+cave+of+the+golden+rose+1991   32  college/grad student   \n",
              "4   504412  the+cave+of+the+golden+rose+1991   23  college/grad student   \n",
              "\n",
              "  Gender      Genre  Rating                               User_Movie  \n",
              "0      F  Adventure       4  256889-the+cave+of+the+golden+rose+1991  \n",
              "1      M  Adventure       3  704061-the+cave+of+the+golden+rose+1991  \n",
              "2      M  Adventure       4  743279-the+cave+of+the+golden+rose+1991  \n",
              "3      M  Adventure       4  657376-the+cave+of+the+golden+rose+1991  \n",
              "4      M  Adventure       5  504412-the+cave+of+the+golden+rose+1991  "
            ],
            "text/html": [
              "\n",
              "  <div id=\"df-02b3d846-b54e-4ec2-bba5-2581ccb52307\">\n",
              "    <div class=\"colab-df-container\">\n",
              "      <div>\n",
              "<style scoped>\n",
              "    .dataframe tbody tr th:only-of-type {\n",
              "        vertical-align: middle;\n",
              "    }\n",
              "\n",
              "    .dataframe tbody tr th {\n",
              "        vertical-align: top;\n",
              "    }\n",
              "\n",
              "    .dataframe thead th {\n",
              "        text-align: right;\n",
              "    }\n",
              "</style>\n",
              "<table border=\"1\" class=\"dataframe\">\n",
              "  <thead>\n",
              "    <tr style=\"text-align: right;\">\n",
              "      <th></th>\n",
              "      <th>User_ID</th>\n",
              "      <th>Movie_ID</th>\n",
              "      <th>Age</th>\n",
              "      <th>Occupation</th>\n",
              "      <th>Gender</th>\n",
              "      <th>Genre</th>\n",
              "      <th>Rating</th>\n",
              "      <th>User_Movie</th>\n",
              "    </tr>\n",
              "  </thead>\n",
              "  <tbody>\n",
              "    <tr>\n",
              "      <th>0</th>\n",
              "      <td>256889</td>\n",
              "      <td>the+cave+of+the+golden+rose+1991</td>\n",
              "      <td>33</td>\n",
              "      <td>college/grad student</td>\n",
              "      <td>F</td>\n",
              "      <td>Adventure</td>\n",
              "      <td>4</td>\n",
              "      <td>256889-the+cave+of+the+golden+rose+1991</td>\n",
              "    </tr>\n",
              "    <tr>\n",
              "      <th>1</th>\n",
              "      <td>704061</td>\n",
              "      <td>the+cave+of+the+golden+rose+1991</td>\n",
              "      <td>29</td>\n",
              "      <td>sales/marketing</td>\n",
              "      <td>M</td>\n",
              "      <td>Adventure</td>\n",
              "      <td>3</td>\n",
              "      <td>704061-the+cave+of+the+golden+rose+1991</td>\n",
              "    </tr>\n",
              "    <tr>\n",
              "      <th>2</th>\n",
              "      <td>743279</td>\n",
              "      <td>the+cave+of+the+golden+rose+1991</td>\n",
              "      <td>33</td>\n",
              "      <td>executive/managerial</td>\n",
              "      <td>M</td>\n",
              "      <td>Adventure</td>\n",
              "      <td>4</td>\n",
              "      <td>743279-the+cave+of+the+golden+rose+1991</td>\n",
              "    </tr>\n",
              "    <tr>\n",
              "      <th>3</th>\n",
              "      <td>657376</td>\n",
              "      <td>the+cave+of+the+golden+rose+1991</td>\n",
              "      <td>32</td>\n",
              "      <td>college/grad student</td>\n",
              "      <td>M</td>\n",
              "      <td>Adventure</td>\n",
              "      <td>4</td>\n",
              "      <td>657376-the+cave+of+the+golden+rose+1991</td>\n",
              "    </tr>\n",
              "    <tr>\n",
              "      <th>4</th>\n",
              "      <td>504412</td>\n",
              "      <td>the+cave+of+the+golden+rose+1991</td>\n",
              "      <td>23</td>\n",
              "      <td>college/grad student</td>\n",
              "      <td>M</td>\n",
              "      <td>Adventure</td>\n",
              "      <td>5</td>\n",
              "      <td>504412-the+cave+of+the+golden+rose+1991</td>\n",
              "    </tr>\n",
              "  </tbody>\n",
              "</table>\n",
              "</div>\n",
              "      <button class=\"colab-df-convert\" onclick=\"convertToInteractive('df-02b3d846-b54e-4ec2-bba5-2581ccb52307')\"\n",
              "              title=\"Convert this dataframe to an interactive table.\"\n",
              "              style=\"display:none;\">\n",
              "        \n",
              "  <svg xmlns=\"http://www.w3.org/2000/svg\" height=\"24px\"viewBox=\"0 0 24 24\"\n",
              "       width=\"24px\">\n",
              "    <path d=\"M0 0h24v24H0V0z\" fill=\"none\"/>\n",
              "    <path d=\"M18.56 5.44l.94 2.06.94-2.06 2.06-.94-2.06-.94-.94-2.06-.94 2.06-2.06.94zm-11 1L8.5 8.5l.94-2.06 2.06-.94-2.06-.94L8.5 2.5l-.94 2.06-2.06.94zm10 10l.94 2.06.94-2.06 2.06-.94-2.06-.94-.94-2.06-.94 2.06-2.06.94z\"/><path d=\"M17.41 7.96l-1.37-1.37c-.4-.4-.92-.59-1.43-.59-.52 0-1.04.2-1.43.59L10.3 9.45l-7.72 7.72c-.78.78-.78 2.05 0 2.83L4 21.41c.39.39.9.59 1.41.59.51 0 1.02-.2 1.41-.59l7.78-7.78 2.81-2.81c.8-.78.8-2.07 0-2.86zM5.41 20L4 18.59l7.72-7.72 1.47 1.35L5.41 20z\"/>\n",
              "  </svg>\n",
              "      </button>\n",
              "      \n",
              "  <style>\n",
              "    .colab-df-container {\n",
              "      display:flex;\n",
              "      flex-wrap:wrap;\n",
              "      gap: 12px;\n",
              "    }\n",
              "\n",
              "    .colab-df-convert {\n",
              "      background-color: #E8F0FE;\n",
              "      border: none;\n",
              "      border-radius: 50%;\n",
              "      cursor: pointer;\n",
              "      display: none;\n",
              "      fill: #1967D2;\n",
              "      height: 32px;\n",
              "      padding: 0 0 0 0;\n",
              "      width: 32px;\n",
              "    }\n",
              "\n",
              "    .colab-df-convert:hover {\n",
              "      background-color: #E2EBFA;\n",
              "      box-shadow: 0px 1px 2px rgba(60, 64, 67, 0.3), 0px 1px 3px 1px rgba(60, 64, 67, 0.15);\n",
              "      fill: #174EA6;\n",
              "    }\n",
              "\n",
              "    [theme=dark] .colab-df-convert {\n",
              "      background-color: #3B4455;\n",
              "      fill: #D2E3FC;\n",
              "    }\n",
              "\n",
              "    [theme=dark] .colab-df-convert:hover {\n",
              "      background-color: #434B5C;\n",
              "      box-shadow: 0px 1px 3px 1px rgba(0, 0, 0, 0.15);\n",
              "      filter: drop-shadow(0px 1px 2px rgba(0, 0, 0, 0.3));\n",
              "      fill: #FFFFFF;\n",
              "    }\n",
              "  </style>\n",
              "\n",
              "      <script>\n",
              "        const buttonEl =\n",
              "          document.querySelector('#df-02b3d846-b54e-4ec2-bba5-2581ccb52307 button.colab-df-convert');\n",
              "        buttonEl.style.display =\n",
              "          google.colab.kernel.accessAllowed ? 'block' : 'none';\n",
              "\n",
              "        async function convertToInteractive(key) {\n",
              "          const element = document.querySelector('#df-02b3d846-b54e-4ec2-bba5-2581ccb52307');\n",
              "          const dataTable =\n",
              "            await google.colab.kernel.invokeFunction('convertToInteractive',\n",
              "                                                     [key], {});\n",
              "          if (!dataTable) return;\n",
              "\n",
              "          const docLinkHtml = 'Like what you see? Visit the ' +\n",
              "            '<a target=\"_blank\" href=https://colab.research.google.com/notebooks/data_table.ipynb>data table notebook</a>'\n",
              "            + ' to learn more about interactive tables.';\n",
              "          element.innerHTML = '';\n",
              "          dataTable['output_type'] = 'display_data';\n",
              "          await google.colab.output.renderOutput(dataTable, element);\n",
              "          const docLink = document.createElement('div');\n",
              "          docLink.innerHTML = docLinkHtml;\n",
              "          element.appendChild(docLink);\n",
              "        }\n",
              "      </script>\n",
              "    </div>\n",
              "  </div>\n",
              "  "
            ]
          },
          "metadata": {},
          "execution_count": 29
        }
      ]
    },
    {
      "cell_type": "code",
      "source": [
        "combined_data_cleaned = combined_data.drop(columns=[\"User_ID\",\"Movie_ID\"]).set_index(keys=\"User_Movie\")\n",
        "combined_data_cleaned.head()"
      ],
      "metadata": {
        "colab": {
          "base_uri": "https://localhost:8080/",
          "height": 238
        },
        "id": "ZzclysXBAQop",
        "outputId": "432c6bde-c1ea-42f0-f60c-4031b64ff9f6"
      },
      "execution_count": 30,
      "outputs": [
        {
          "output_type": "execute_result",
          "data": {
            "text/plain": [
              "                                         Age            Occupation Gender  \\\n",
              "User_Movie                                                                  \n",
              "256889-the+cave+of+the+golden+rose+1991   33  college/grad student      F   \n",
              "704061-the+cave+of+the+golden+rose+1991   29       sales/marketing      M   \n",
              "743279-the+cave+of+the+golden+rose+1991   33  executive/managerial      M   \n",
              "657376-the+cave+of+the+golden+rose+1991   32  college/grad student      M   \n",
              "504412-the+cave+of+the+golden+rose+1991   23  college/grad student      M   \n",
              "\n",
              "                                             Genre  Rating  \n",
              "User_Movie                                                  \n",
              "256889-the+cave+of+the+golden+rose+1991  Adventure       4  \n",
              "704061-the+cave+of+the+golden+rose+1991  Adventure       3  \n",
              "743279-the+cave+of+the+golden+rose+1991  Adventure       4  \n",
              "657376-the+cave+of+the+golden+rose+1991  Adventure       4  \n",
              "504412-the+cave+of+the+golden+rose+1991  Adventure       5  "
            ],
            "text/html": [
              "\n",
              "  <div id=\"df-8113f580-f7a4-4f19-ab25-5a944125d6ea\">\n",
              "    <div class=\"colab-df-container\">\n",
              "      <div>\n",
              "<style scoped>\n",
              "    .dataframe tbody tr th:only-of-type {\n",
              "        vertical-align: middle;\n",
              "    }\n",
              "\n",
              "    .dataframe tbody tr th {\n",
              "        vertical-align: top;\n",
              "    }\n",
              "\n",
              "    .dataframe thead th {\n",
              "        text-align: right;\n",
              "    }\n",
              "</style>\n",
              "<table border=\"1\" class=\"dataframe\">\n",
              "  <thead>\n",
              "    <tr style=\"text-align: right;\">\n",
              "      <th></th>\n",
              "      <th>Age</th>\n",
              "      <th>Occupation</th>\n",
              "      <th>Gender</th>\n",
              "      <th>Genre</th>\n",
              "      <th>Rating</th>\n",
              "    </tr>\n",
              "    <tr>\n",
              "      <th>User_Movie</th>\n",
              "      <th></th>\n",
              "      <th></th>\n",
              "      <th></th>\n",
              "      <th></th>\n",
              "      <th></th>\n",
              "    </tr>\n",
              "  </thead>\n",
              "  <tbody>\n",
              "    <tr>\n",
              "      <th>256889-the+cave+of+the+golden+rose+1991</th>\n",
              "      <td>33</td>\n",
              "      <td>college/grad student</td>\n",
              "      <td>F</td>\n",
              "      <td>Adventure</td>\n",
              "      <td>4</td>\n",
              "    </tr>\n",
              "    <tr>\n",
              "      <th>704061-the+cave+of+the+golden+rose+1991</th>\n",
              "      <td>29</td>\n",
              "      <td>sales/marketing</td>\n",
              "      <td>M</td>\n",
              "      <td>Adventure</td>\n",
              "      <td>3</td>\n",
              "    </tr>\n",
              "    <tr>\n",
              "      <th>743279-the+cave+of+the+golden+rose+1991</th>\n",
              "      <td>33</td>\n",
              "      <td>executive/managerial</td>\n",
              "      <td>M</td>\n",
              "      <td>Adventure</td>\n",
              "      <td>4</td>\n",
              "    </tr>\n",
              "    <tr>\n",
              "      <th>657376-the+cave+of+the+golden+rose+1991</th>\n",
              "      <td>32</td>\n",
              "      <td>college/grad student</td>\n",
              "      <td>M</td>\n",
              "      <td>Adventure</td>\n",
              "      <td>4</td>\n",
              "    </tr>\n",
              "    <tr>\n",
              "      <th>504412-the+cave+of+the+golden+rose+1991</th>\n",
              "      <td>23</td>\n",
              "      <td>college/grad student</td>\n",
              "      <td>M</td>\n",
              "      <td>Adventure</td>\n",
              "      <td>5</td>\n",
              "    </tr>\n",
              "  </tbody>\n",
              "</table>\n",
              "</div>\n",
              "      <button class=\"colab-df-convert\" onclick=\"convertToInteractive('df-8113f580-f7a4-4f19-ab25-5a944125d6ea')\"\n",
              "              title=\"Convert this dataframe to an interactive table.\"\n",
              "              style=\"display:none;\">\n",
              "        \n",
              "  <svg xmlns=\"http://www.w3.org/2000/svg\" height=\"24px\"viewBox=\"0 0 24 24\"\n",
              "       width=\"24px\">\n",
              "    <path d=\"M0 0h24v24H0V0z\" fill=\"none\"/>\n",
              "    <path d=\"M18.56 5.44l.94 2.06.94-2.06 2.06-.94-2.06-.94-.94-2.06-.94 2.06-2.06.94zm-11 1L8.5 8.5l.94-2.06 2.06-.94-2.06-.94L8.5 2.5l-.94 2.06-2.06.94zm10 10l.94 2.06.94-2.06 2.06-.94-2.06-.94-.94-2.06-.94 2.06-2.06.94z\"/><path d=\"M17.41 7.96l-1.37-1.37c-.4-.4-.92-.59-1.43-.59-.52 0-1.04.2-1.43.59L10.3 9.45l-7.72 7.72c-.78.78-.78 2.05 0 2.83L4 21.41c.39.39.9.59 1.41.59.51 0 1.02-.2 1.41-.59l7.78-7.78 2.81-2.81c.8-.78.8-2.07 0-2.86zM5.41 20L4 18.59l7.72-7.72 1.47 1.35L5.41 20z\"/>\n",
              "  </svg>\n",
              "      </button>\n",
              "      \n",
              "  <style>\n",
              "    .colab-df-container {\n",
              "      display:flex;\n",
              "      flex-wrap:wrap;\n",
              "      gap: 12px;\n",
              "    }\n",
              "\n",
              "    .colab-df-convert {\n",
              "      background-color: #E8F0FE;\n",
              "      border: none;\n",
              "      border-radius: 50%;\n",
              "      cursor: pointer;\n",
              "      display: none;\n",
              "      fill: #1967D2;\n",
              "      height: 32px;\n",
              "      padding: 0 0 0 0;\n",
              "      width: 32px;\n",
              "    }\n",
              "\n",
              "    .colab-df-convert:hover {\n",
              "      background-color: #E2EBFA;\n",
              "      box-shadow: 0px 1px 2px rgba(60, 64, 67, 0.3), 0px 1px 3px 1px rgba(60, 64, 67, 0.15);\n",
              "      fill: #174EA6;\n",
              "    }\n",
              "\n",
              "    [theme=dark] .colab-df-convert {\n",
              "      background-color: #3B4455;\n",
              "      fill: #D2E3FC;\n",
              "    }\n",
              "\n",
              "    [theme=dark] .colab-df-convert:hover {\n",
              "      background-color: #434B5C;\n",
              "      box-shadow: 0px 1px 3px 1px rgba(0, 0, 0, 0.15);\n",
              "      filter: drop-shadow(0px 1px 2px rgba(0, 0, 0, 0.3));\n",
              "      fill: #FFFFFF;\n",
              "    }\n",
              "  </style>\n",
              "\n",
              "      <script>\n",
              "        const buttonEl =\n",
              "          document.querySelector('#df-8113f580-f7a4-4f19-ab25-5a944125d6ea button.colab-df-convert');\n",
              "        buttonEl.style.display =\n",
              "          google.colab.kernel.accessAllowed ? 'block' : 'none';\n",
              "\n",
              "        async function convertToInteractive(key) {\n",
              "          const element = document.querySelector('#df-8113f580-f7a4-4f19-ab25-5a944125d6ea');\n",
              "          const dataTable =\n",
              "            await google.colab.kernel.invokeFunction('convertToInteractive',\n",
              "                                                     [key], {});\n",
              "          if (!dataTable) return;\n",
              "\n",
              "          const docLinkHtml = 'Like what you see? Visit the ' +\n",
              "            '<a target=\"_blank\" href=https://colab.research.google.com/notebooks/data_table.ipynb>data table notebook</a>'\n",
              "            + ' to learn more about interactive tables.';\n",
              "          element.innerHTML = '';\n",
              "          dataTable['output_type'] = 'display_data';\n",
              "          await google.colab.output.renderOutput(dataTable, element);\n",
              "          const docLink = document.createElement('div');\n",
              "          docLink.innerHTML = docLinkHtml;\n",
              "          element.appendChild(docLink);\n",
              "        }\n",
              "      </script>\n",
              "    </div>\n",
              "  </div>\n",
              "  "
            ]
          },
          "metadata": {},
          "execution_count": 30
        }
      ]
    },
    {
      "cell_type": "code",
      "source": [
        "combined_data_cleaned.info()"
      ],
      "metadata": {
        "colab": {
          "base_uri": "https://localhost:8080/"
        },
        "id": "1a9KM_3vAooH",
        "outputId": "17d07bc0-50ff-476f-e7f0-c1877750c362"
      },
      "execution_count": 31,
      "outputs": [
        {
          "output_type": "stream",
          "name": "stdout",
          "text": [
            "<class 'pandas.core.frame.DataFrame'>\n",
            "Index: 1970007 entries, 256889-the+cave+of+the+golden+rose+1991 to 434863-death+ship+1980\n",
            "Data columns (total 5 columns):\n",
            " #   Column      Dtype \n",
            "---  ------      ----- \n",
            " 0   Age         int64 \n",
            " 1   Occupation  object\n",
            " 2   Gender      object\n",
            " 3   Genre       object\n",
            " 4   Rating      int64 \n",
            "dtypes: int64(2), object(3)\n",
            "memory usage: 90.2+ MB\n"
          ]
        }
      ]
    },
    {
      "cell_type": "markdown",
      "source": [
        "## Checking Duplicates"
      ],
      "metadata": {
        "id": "KfhhNg0_FsX9"
      }
    },
    {
      "cell_type": "code",
      "source": [
        "combined_data_cleaned[combined_data_cleaned.duplicated()].sort_values(by=combined_data_cleaned.columns.to_list())"
      ],
      "metadata": {
        "colab": {
          "base_uri": "https://localhost:8080/",
          "height": 455
        },
        "id": "hYGwyP74A5qY",
        "outputId": "c0259551-e9e5-4546-ac77-7968ec2513bb"
      },
      "execution_count": 32,
      "outputs": [
        {
          "output_type": "execute_result",
          "data": {
            "text/plain": [
              "                                  Age    Occupation Gender    Genre  Rating\n",
              "User_Movie                                                                 \n",
              "416576-the+aggression+scale+2012    8  K-12 student      F   Action       2\n",
              "788446-the+twilight+samurai+2002    8  K-12 student      F   Action       3\n",
              "184347-men+in+black+ii+2002         8  K-12 student      F   Action       3\n",
              "6258-dead+end+drive-in+1986         8  K-12 student      F   Action       3\n",
              "437627-repo+men+2010                8  K-12 student      F   Action       3\n",
              "...                               ...           ...    ...      ...     ...\n",
              "211898-schindlers+list+1993        90        writer      M    Drama       5\n",
              "76942-pather+panchali+1955         90        writer      M    Drama       5\n",
              "661956-sanjuro+1962                90        writer      M    Drama       5\n",
              "210499-grand+illusion+1937         90        writer      M    Drama       5\n",
              "211898-stereo+1969                 90        writer      M  Science       4\n",
              "\n",
              "[1906431 rows x 5 columns]"
            ],
            "text/html": [
              "\n",
              "  <div id=\"df-1f68fec9-0286-4823-93ce-785db577f55f\">\n",
              "    <div class=\"colab-df-container\">\n",
              "      <div>\n",
              "<style scoped>\n",
              "    .dataframe tbody tr th:only-of-type {\n",
              "        vertical-align: middle;\n",
              "    }\n",
              "\n",
              "    .dataframe tbody tr th {\n",
              "        vertical-align: top;\n",
              "    }\n",
              "\n",
              "    .dataframe thead th {\n",
              "        text-align: right;\n",
              "    }\n",
              "</style>\n",
              "<table border=\"1\" class=\"dataframe\">\n",
              "  <thead>\n",
              "    <tr style=\"text-align: right;\">\n",
              "      <th></th>\n",
              "      <th>Age</th>\n",
              "      <th>Occupation</th>\n",
              "      <th>Gender</th>\n",
              "      <th>Genre</th>\n",
              "      <th>Rating</th>\n",
              "    </tr>\n",
              "    <tr>\n",
              "      <th>User_Movie</th>\n",
              "      <th></th>\n",
              "      <th></th>\n",
              "      <th></th>\n",
              "      <th></th>\n",
              "      <th></th>\n",
              "    </tr>\n",
              "  </thead>\n",
              "  <tbody>\n",
              "    <tr>\n",
              "      <th>416576-the+aggression+scale+2012</th>\n",
              "      <td>8</td>\n",
              "      <td>K-12 student</td>\n",
              "      <td>F</td>\n",
              "      <td>Action</td>\n",
              "      <td>2</td>\n",
              "    </tr>\n",
              "    <tr>\n",
              "      <th>788446-the+twilight+samurai+2002</th>\n",
              "      <td>8</td>\n",
              "      <td>K-12 student</td>\n",
              "      <td>F</td>\n",
              "      <td>Action</td>\n",
              "      <td>3</td>\n",
              "    </tr>\n",
              "    <tr>\n",
              "      <th>184347-men+in+black+ii+2002</th>\n",
              "      <td>8</td>\n",
              "      <td>K-12 student</td>\n",
              "      <td>F</td>\n",
              "      <td>Action</td>\n",
              "      <td>3</td>\n",
              "    </tr>\n",
              "    <tr>\n",
              "      <th>6258-dead+end+drive-in+1986</th>\n",
              "      <td>8</td>\n",
              "      <td>K-12 student</td>\n",
              "      <td>F</td>\n",
              "      <td>Action</td>\n",
              "      <td>3</td>\n",
              "    </tr>\n",
              "    <tr>\n",
              "      <th>437627-repo+men+2010</th>\n",
              "      <td>8</td>\n",
              "      <td>K-12 student</td>\n",
              "      <td>F</td>\n",
              "      <td>Action</td>\n",
              "      <td>3</td>\n",
              "    </tr>\n",
              "    <tr>\n",
              "      <th>...</th>\n",
              "      <td>...</td>\n",
              "      <td>...</td>\n",
              "      <td>...</td>\n",
              "      <td>...</td>\n",
              "      <td>...</td>\n",
              "    </tr>\n",
              "    <tr>\n",
              "      <th>211898-schindlers+list+1993</th>\n",
              "      <td>90</td>\n",
              "      <td>writer</td>\n",
              "      <td>M</td>\n",
              "      <td>Drama</td>\n",
              "      <td>5</td>\n",
              "    </tr>\n",
              "    <tr>\n",
              "      <th>76942-pather+panchali+1955</th>\n",
              "      <td>90</td>\n",
              "      <td>writer</td>\n",
              "      <td>M</td>\n",
              "      <td>Drama</td>\n",
              "      <td>5</td>\n",
              "    </tr>\n",
              "    <tr>\n",
              "      <th>661956-sanjuro+1962</th>\n",
              "      <td>90</td>\n",
              "      <td>writer</td>\n",
              "      <td>M</td>\n",
              "      <td>Drama</td>\n",
              "      <td>5</td>\n",
              "    </tr>\n",
              "    <tr>\n",
              "      <th>210499-grand+illusion+1937</th>\n",
              "      <td>90</td>\n",
              "      <td>writer</td>\n",
              "      <td>M</td>\n",
              "      <td>Drama</td>\n",
              "      <td>5</td>\n",
              "    </tr>\n",
              "    <tr>\n",
              "      <th>211898-stereo+1969</th>\n",
              "      <td>90</td>\n",
              "      <td>writer</td>\n",
              "      <td>M</td>\n",
              "      <td>Science</td>\n",
              "      <td>4</td>\n",
              "    </tr>\n",
              "  </tbody>\n",
              "</table>\n",
              "<p>1906431 rows × 5 columns</p>\n",
              "</div>\n",
              "      <button class=\"colab-df-convert\" onclick=\"convertToInteractive('df-1f68fec9-0286-4823-93ce-785db577f55f')\"\n",
              "              title=\"Convert this dataframe to an interactive table.\"\n",
              "              style=\"display:none;\">\n",
              "        \n",
              "  <svg xmlns=\"http://www.w3.org/2000/svg\" height=\"24px\"viewBox=\"0 0 24 24\"\n",
              "       width=\"24px\">\n",
              "    <path d=\"M0 0h24v24H0V0z\" fill=\"none\"/>\n",
              "    <path d=\"M18.56 5.44l.94 2.06.94-2.06 2.06-.94-2.06-.94-.94-2.06-.94 2.06-2.06.94zm-11 1L8.5 8.5l.94-2.06 2.06-.94-2.06-.94L8.5 2.5l-.94 2.06-2.06.94zm10 10l.94 2.06.94-2.06 2.06-.94-2.06-.94-.94-2.06-.94 2.06-2.06.94z\"/><path d=\"M17.41 7.96l-1.37-1.37c-.4-.4-.92-.59-1.43-.59-.52 0-1.04.2-1.43.59L10.3 9.45l-7.72 7.72c-.78.78-.78 2.05 0 2.83L4 21.41c.39.39.9.59 1.41.59.51 0 1.02-.2 1.41-.59l7.78-7.78 2.81-2.81c.8-.78.8-2.07 0-2.86zM5.41 20L4 18.59l7.72-7.72 1.47 1.35L5.41 20z\"/>\n",
              "  </svg>\n",
              "      </button>\n",
              "      \n",
              "  <style>\n",
              "    .colab-df-container {\n",
              "      display:flex;\n",
              "      flex-wrap:wrap;\n",
              "      gap: 12px;\n",
              "    }\n",
              "\n",
              "    .colab-df-convert {\n",
              "      background-color: #E8F0FE;\n",
              "      border: none;\n",
              "      border-radius: 50%;\n",
              "      cursor: pointer;\n",
              "      display: none;\n",
              "      fill: #1967D2;\n",
              "      height: 32px;\n",
              "      padding: 0 0 0 0;\n",
              "      width: 32px;\n",
              "    }\n",
              "\n",
              "    .colab-df-convert:hover {\n",
              "      background-color: #E2EBFA;\n",
              "      box-shadow: 0px 1px 2px rgba(60, 64, 67, 0.3), 0px 1px 3px 1px rgba(60, 64, 67, 0.15);\n",
              "      fill: #174EA6;\n",
              "    }\n",
              "\n",
              "    [theme=dark] .colab-df-convert {\n",
              "      background-color: #3B4455;\n",
              "      fill: #D2E3FC;\n",
              "    }\n",
              "\n",
              "    [theme=dark] .colab-df-convert:hover {\n",
              "      background-color: #434B5C;\n",
              "      box-shadow: 0px 1px 3px 1px rgba(0, 0, 0, 0.15);\n",
              "      filter: drop-shadow(0px 1px 2px rgba(0, 0, 0, 0.3));\n",
              "      fill: #FFFFFF;\n",
              "    }\n",
              "  </style>\n",
              "\n",
              "      <script>\n",
              "        const buttonEl =\n",
              "          document.querySelector('#df-1f68fec9-0286-4823-93ce-785db577f55f button.colab-df-convert');\n",
              "        buttonEl.style.display =\n",
              "          google.colab.kernel.accessAllowed ? 'block' : 'none';\n",
              "\n",
              "        async function convertToInteractive(key) {\n",
              "          const element = document.querySelector('#df-1f68fec9-0286-4823-93ce-785db577f55f');\n",
              "          const dataTable =\n",
              "            await google.colab.kernel.invokeFunction('convertToInteractive',\n",
              "                                                     [key], {});\n",
              "          if (!dataTable) return;\n",
              "\n",
              "          const docLinkHtml = 'Like what you see? Visit the ' +\n",
              "            '<a target=\"_blank\" href=https://colab.research.google.com/notebooks/data_table.ipynb>data table notebook</a>'\n",
              "            + ' to learn more about interactive tables.';\n",
              "          element.innerHTML = '';\n",
              "          dataTable['output_type'] = 'display_data';\n",
              "          await google.colab.output.renderOutput(dataTable, element);\n",
              "          const docLink = document.createElement('div');\n",
              "          docLink.innerHTML = docLinkHtml;\n",
              "          element.appendChild(docLink);\n",
              "        }\n",
              "      </script>\n",
              "    </div>\n",
              "  </div>\n",
              "  "
            ]
          },
          "metadata": {},
          "execution_count": 32
        }
      ]
    },
    {
      "cell_type": "code",
      "source": [
        "combined_data_cleaned.duplicated()"
      ],
      "metadata": {
        "colab": {
          "base_uri": "https://localhost:8080/"
        },
        "id": "6wqF-lIPA85j",
        "outputId": "6cb34422-1aaa-424e-fc2a-ae3d1e37607e"
      },
      "execution_count": 33,
      "outputs": [
        {
          "output_type": "execute_result",
          "data": {
            "text/plain": [
              "User_Movie\n",
              "256889-the+cave+of+the+golden+rose+1991          False\n",
              "704061-the+cave+of+the+golden+rose+1991          False\n",
              "743279-the+cave+of+the+golden+rose+1991          False\n",
              "657376-the+cave+of+the+golden+rose+1991          False\n",
              "504412-the+cave+of+the+golden+rose+1991          False\n",
              "                                                 ...  \n",
              "192074-missing+in+action+2+the+beginning+1985     True\n",
              "505222-it+runs+in+the+family+2003                 True\n",
              "834805-the+pirate+movie+1982                      True\n",
              "405895-stag+1997                                  True\n",
              "434863-death+ship+1980                            True\n",
              "Length: 1970007, dtype: bool"
            ]
          },
          "metadata": {},
          "execution_count": 33
        }
      ]
    },
    {
      "cell_type": "code",
      "source": [
        "combined_data_cleaned.drop_duplicates()"
      ],
      "metadata": {
        "colab": {
          "base_uri": "https://localhost:8080/",
          "height": 455
        },
        "id": "341zjiAvDd-z",
        "outputId": "5c931288-310d-4793-abc2-f6ad2b878002"
      },
      "execution_count": 34,
      "outputs": [
        {
          "output_type": "execute_result",
          "data": {
            "text/plain": [
              "                                         Age              Occupation Gender  \\\n",
              "User_Movie                                                                    \n",
              "256889-the+cave+of+the+golden+rose+1991   33    college/grad student      F   \n",
              "704061-the+cave+of+the+golden+rose+1991   29         sales/marketing      M   \n",
              "743279-the+cave+of+the+golden+rose+1991   33    executive/managerial      M   \n",
              "657376-the+cave+of+the+golden+rose+1991   32    college/grad student      M   \n",
              "504412-the+cave+of+the+golden+rose+1991   23    college/grad student      M   \n",
              "...                                      ...                     ...    ...   \n",
              "745489-honey+i+blew+up+the+kid+1992       53               scientist      M   \n",
              "699213-deadly+friend+1986                 38         sales/marketing      F   \n",
              "527143-torque+2004                        39                  writer      M   \n",
              "826252-losin+it+1983                      30           self-employed      M   \n",
              "648565-hercules+in+new+york+1969          87  other or not specified      F   \n",
              "\n",
              "                                             Genre  Rating  \n",
              "User_Movie                                                  \n",
              "256889-the+cave+of+the+golden+rose+1991  Adventure       4  \n",
              "704061-the+cave+of+the+golden+rose+1991  Adventure       3  \n",
              "743279-the+cave+of+the+golden+rose+1991  Adventure       4  \n",
              "657376-the+cave+of+the+golden+rose+1991  Adventure       4  \n",
              "504412-the+cave+of+the+golden+rose+1991  Adventure       5  \n",
              "...                                            ...     ...  \n",
              "745489-honey+i+blew+up+the+kid+1992      Adventure       1  \n",
              "699213-deadly+friend+1986                   Horror       3  \n",
              "527143-torque+2004                          Action       1  \n",
              "826252-losin+it+1983                        Comedy       1  \n",
              "648565-hercules+in+new+york+1969            Action       2  \n",
              "\n",
              "[63576 rows x 5 columns]"
            ],
            "text/html": [
              "\n",
              "  <div id=\"df-774d962d-95c3-4955-a018-3d4885bfc000\">\n",
              "    <div class=\"colab-df-container\">\n",
              "      <div>\n",
              "<style scoped>\n",
              "    .dataframe tbody tr th:only-of-type {\n",
              "        vertical-align: middle;\n",
              "    }\n",
              "\n",
              "    .dataframe tbody tr th {\n",
              "        vertical-align: top;\n",
              "    }\n",
              "\n",
              "    .dataframe thead th {\n",
              "        text-align: right;\n",
              "    }\n",
              "</style>\n",
              "<table border=\"1\" class=\"dataframe\">\n",
              "  <thead>\n",
              "    <tr style=\"text-align: right;\">\n",
              "      <th></th>\n",
              "      <th>Age</th>\n",
              "      <th>Occupation</th>\n",
              "      <th>Gender</th>\n",
              "      <th>Genre</th>\n",
              "      <th>Rating</th>\n",
              "    </tr>\n",
              "    <tr>\n",
              "      <th>User_Movie</th>\n",
              "      <th></th>\n",
              "      <th></th>\n",
              "      <th></th>\n",
              "      <th></th>\n",
              "      <th></th>\n",
              "    </tr>\n",
              "  </thead>\n",
              "  <tbody>\n",
              "    <tr>\n",
              "      <th>256889-the+cave+of+the+golden+rose+1991</th>\n",
              "      <td>33</td>\n",
              "      <td>college/grad student</td>\n",
              "      <td>F</td>\n",
              "      <td>Adventure</td>\n",
              "      <td>4</td>\n",
              "    </tr>\n",
              "    <tr>\n",
              "      <th>704061-the+cave+of+the+golden+rose+1991</th>\n",
              "      <td>29</td>\n",
              "      <td>sales/marketing</td>\n",
              "      <td>M</td>\n",
              "      <td>Adventure</td>\n",
              "      <td>3</td>\n",
              "    </tr>\n",
              "    <tr>\n",
              "      <th>743279-the+cave+of+the+golden+rose+1991</th>\n",
              "      <td>33</td>\n",
              "      <td>executive/managerial</td>\n",
              "      <td>M</td>\n",
              "      <td>Adventure</td>\n",
              "      <td>4</td>\n",
              "    </tr>\n",
              "    <tr>\n",
              "      <th>657376-the+cave+of+the+golden+rose+1991</th>\n",
              "      <td>32</td>\n",
              "      <td>college/grad student</td>\n",
              "      <td>M</td>\n",
              "      <td>Adventure</td>\n",
              "      <td>4</td>\n",
              "    </tr>\n",
              "    <tr>\n",
              "      <th>504412-the+cave+of+the+golden+rose+1991</th>\n",
              "      <td>23</td>\n",
              "      <td>college/grad student</td>\n",
              "      <td>M</td>\n",
              "      <td>Adventure</td>\n",
              "      <td>5</td>\n",
              "    </tr>\n",
              "    <tr>\n",
              "      <th>...</th>\n",
              "      <td>...</td>\n",
              "      <td>...</td>\n",
              "      <td>...</td>\n",
              "      <td>...</td>\n",
              "      <td>...</td>\n",
              "    </tr>\n",
              "    <tr>\n",
              "      <th>745489-honey+i+blew+up+the+kid+1992</th>\n",
              "      <td>53</td>\n",
              "      <td>scientist</td>\n",
              "      <td>M</td>\n",
              "      <td>Adventure</td>\n",
              "      <td>1</td>\n",
              "    </tr>\n",
              "    <tr>\n",
              "      <th>699213-deadly+friend+1986</th>\n",
              "      <td>38</td>\n",
              "      <td>sales/marketing</td>\n",
              "      <td>F</td>\n",
              "      <td>Horror</td>\n",
              "      <td>3</td>\n",
              "    </tr>\n",
              "    <tr>\n",
              "      <th>527143-torque+2004</th>\n",
              "      <td>39</td>\n",
              "      <td>writer</td>\n",
              "      <td>M</td>\n",
              "      <td>Action</td>\n",
              "      <td>1</td>\n",
              "    </tr>\n",
              "    <tr>\n",
              "      <th>826252-losin+it+1983</th>\n",
              "      <td>30</td>\n",
              "      <td>self-employed</td>\n",
              "      <td>M</td>\n",
              "      <td>Comedy</td>\n",
              "      <td>1</td>\n",
              "    </tr>\n",
              "    <tr>\n",
              "      <th>648565-hercules+in+new+york+1969</th>\n",
              "      <td>87</td>\n",
              "      <td>other or not specified</td>\n",
              "      <td>F</td>\n",
              "      <td>Action</td>\n",
              "      <td>2</td>\n",
              "    </tr>\n",
              "  </tbody>\n",
              "</table>\n",
              "<p>63576 rows × 5 columns</p>\n",
              "</div>\n",
              "      <button class=\"colab-df-convert\" onclick=\"convertToInteractive('df-774d962d-95c3-4955-a018-3d4885bfc000')\"\n",
              "              title=\"Convert this dataframe to an interactive table.\"\n",
              "              style=\"display:none;\">\n",
              "        \n",
              "  <svg xmlns=\"http://www.w3.org/2000/svg\" height=\"24px\"viewBox=\"0 0 24 24\"\n",
              "       width=\"24px\">\n",
              "    <path d=\"M0 0h24v24H0V0z\" fill=\"none\"/>\n",
              "    <path d=\"M18.56 5.44l.94 2.06.94-2.06 2.06-.94-2.06-.94-.94-2.06-.94 2.06-2.06.94zm-11 1L8.5 8.5l.94-2.06 2.06-.94-2.06-.94L8.5 2.5l-.94 2.06-2.06.94zm10 10l.94 2.06.94-2.06 2.06-.94-2.06-.94-.94-2.06-.94 2.06-2.06.94z\"/><path d=\"M17.41 7.96l-1.37-1.37c-.4-.4-.92-.59-1.43-.59-.52 0-1.04.2-1.43.59L10.3 9.45l-7.72 7.72c-.78.78-.78 2.05 0 2.83L4 21.41c.39.39.9.59 1.41.59.51 0 1.02-.2 1.41-.59l7.78-7.78 2.81-2.81c.8-.78.8-2.07 0-2.86zM5.41 20L4 18.59l7.72-7.72 1.47 1.35L5.41 20z\"/>\n",
              "  </svg>\n",
              "      </button>\n",
              "      \n",
              "  <style>\n",
              "    .colab-df-container {\n",
              "      display:flex;\n",
              "      flex-wrap:wrap;\n",
              "      gap: 12px;\n",
              "    }\n",
              "\n",
              "    .colab-df-convert {\n",
              "      background-color: #E8F0FE;\n",
              "      border: none;\n",
              "      border-radius: 50%;\n",
              "      cursor: pointer;\n",
              "      display: none;\n",
              "      fill: #1967D2;\n",
              "      height: 32px;\n",
              "      padding: 0 0 0 0;\n",
              "      width: 32px;\n",
              "    }\n",
              "\n",
              "    .colab-df-convert:hover {\n",
              "      background-color: #E2EBFA;\n",
              "      box-shadow: 0px 1px 2px rgba(60, 64, 67, 0.3), 0px 1px 3px 1px rgba(60, 64, 67, 0.15);\n",
              "      fill: #174EA6;\n",
              "    }\n",
              "\n",
              "    [theme=dark] .colab-df-convert {\n",
              "      background-color: #3B4455;\n",
              "      fill: #D2E3FC;\n",
              "    }\n",
              "\n",
              "    [theme=dark] .colab-df-convert:hover {\n",
              "      background-color: #434B5C;\n",
              "      box-shadow: 0px 1px 3px 1px rgba(0, 0, 0, 0.15);\n",
              "      filter: drop-shadow(0px 1px 2px rgba(0, 0, 0, 0.3));\n",
              "      fill: #FFFFFF;\n",
              "    }\n",
              "  </style>\n",
              "\n",
              "      <script>\n",
              "        const buttonEl =\n",
              "          document.querySelector('#df-774d962d-95c3-4955-a018-3d4885bfc000 button.colab-df-convert');\n",
              "        buttonEl.style.display =\n",
              "          google.colab.kernel.accessAllowed ? 'block' : 'none';\n",
              "\n",
              "        async function convertToInteractive(key) {\n",
              "          const element = document.querySelector('#df-774d962d-95c3-4955-a018-3d4885bfc000');\n",
              "          const dataTable =\n",
              "            await google.colab.kernel.invokeFunction('convertToInteractive',\n",
              "                                                     [key], {});\n",
              "          if (!dataTable) return;\n",
              "\n",
              "          const docLinkHtml = 'Like what you see? Visit the ' +\n",
              "            '<a target=\"_blank\" href=https://colab.research.google.com/notebooks/data_table.ipynb>data table notebook</a>'\n",
              "            + ' to learn more about interactive tables.';\n",
              "          element.innerHTML = '';\n",
              "          dataTable['output_type'] = 'display_data';\n",
              "          await google.colab.output.renderOutput(dataTable, element);\n",
              "          const docLink = document.createElement('div');\n",
              "          docLink.innerHTML = docLinkHtml;\n",
              "          element.appendChild(docLink);\n",
              "        }\n",
              "      </script>\n",
              "    </div>\n",
              "  </div>\n",
              "  "
            ]
          },
          "metadata": {},
          "execution_count": 34
        }
      ]
    },
    {
      "cell_type": "markdown",
      "source": [
        "## Assigning Ratings of 4 and above as High i.e. 1 and below 4 as Low or 0"
      ],
      "metadata": {
        "id": "NYs6qsCaEp3I"
      }
    },
    {
      "cell_type": "code",
      "source": [
        "combined_data_cleaned[\"Rating_Level\"]=  np.where(combined_data_cleaned[\"Rating\"] >= 4,1,0)\n",
        "combined_data_cleaned.head()"
      ],
      "metadata": {
        "colab": {
          "base_uri": "https://localhost:8080/",
          "height": 238
        },
        "id": "xSt7HOowBQKh",
        "outputId": "11c3105c-7c44-4765-e3bc-0f7afcbb9f36"
      },
      "execution_count": 35,
      "outputs": [
        {
          "output_type": "execute_result",
          "data": {
            "text/plain": [
              "                                         Age            Occupation Gender  \\\n",
              "User_Movie                                                                  \n",
              "256889-the+cave+of+the+golden+rose+1991   33  college/grad student      F   \n",
              "704061-the+cave+of+the+golden+rose+1991   29       sales/marketing      M   \n",
              "743279-the+cave+of+the+golden+rose+1991   33  executive/managerial      M   \n",
              "657376-the+cave+of+the+golden+rose+1991   32  college/grad student      M   \n",
              "504412-the+cave+of+the+golden+rose+1991   23  college/grad student      M   \n",
              "\n",
              "                                             Genre  Rating  Rating_Level  \n",
              "User_Movie                                                                \n",
              "256889-the+cave+of+the+golden+rose+1991  Adventure       4             1  \n",
              "704061-the+cave+of+the+golden+rose+1991  Adventure       3             0  \n",
              "743279-the+cave+of+the+golden+rose+1991  Adventure       4             1  \n",
              "657376-the+cave+of+the+golden+rose+1991  Adventure       4             1  \n",
              "504412-the+cave+of+the+golden+rose+1991  Adventure       5             1  "
            ],
            "text/html": [
              "\n",
              "  <div id=\"df-67d15297-aa1c-4fbd-9768-e6fdd761d915\">\n",
              "    <div class=\"colab-df-container\">\n",
              "      <div>\n",
              "<style scoped>\n",
              "    .dataframe tbody tr th:only-of-type {\n",
              "        vertical-align: middle;\n",
              "    }\n",
              "\n",
              "    .dataframe tbody tr th {\n",
              "        vertical-align: top;\n",
              "    }\n",
              "\n",
              "    .dataframe thead th {\n",
              "        text-align: right;\n",
              "    }\n",
              "</style>\n",
              "<table border=\"1\" class=\"dataframe\">\n",
              "  <thead>\n",
              "    <tr style=\"text-align: right;\">\n",
              "      <th></th>\n",
              "      <th>Age</th>\n",
              "      <th>Occupation</th>\n",
              "      <th>Gender</th>\n",
              "      <th>Genre</th>\n",
              "      <th>Rating</th>\n",
              "      <th>Rating_Level</th>\n",
              "    </tr>\n",
              "    <tr>\n",
              "      <th>User_Movie</th>\n",
              "      <th></th>\n",
              "      <th></th>\n",
              "      <th></th>\n",
              "      <th></th>\n",
              "      <th></th>\n",
              "      <th></th>\n",
              "    </tr>\n",
              "  </thead>\n",
              "  <tbody>\n",
              "    <tr>\n",
              "      <th>256889-the+cave+of+the+golden+rose+1991</th>\n",
              "      <td>33</td>\n",
              "      <td>college/grad student</td>\n",
              "      <td>F</td>\n",
              "      <td>Adventure</td>\n",
              "      <td>4</td>\n",
              "      <td>1</td>\n",
              "    </tr>\n",
              "    <tr>\n",
              "      <th>704061-the+cave+of+the+golden+rose+1991</th>\n",
              "      <td>29</td>\n",
              "      <td>sales/marketing</td>\n",
              "      <td>M</td>\n",
              "      <td>Adventure</td>\n",
              "      <td>3</td>\n",
              "      <td>0</td>\n",
              "    </tr>\n",
              "    <tr>\n",
              "      <th>743279-the+cave+of+the+golden+rose+1991</th>\n",
              "      <td>33</td>\n",
              "      <td>executive/managerial</td>\n",
              "      <td>M</td>\n",
              "      <td>Adventure</td>\n",
              "      <td>4</td>\n",
              "      <td>1</td>\n",
              "    </tr>\n",
              "    <tr>\n",
              "      <th>657376-the+cave+of+the+golden+rose+1991</th>\n",
              "      <td>32</td>\n",
              "      <td>college/grad student</td>\n",
              "      <td>M</td>\n",
              "      <td>Adventure</td>\n",
              "      <td>4</td>\n",
              "      <td>1</td>\n",
              "    </tr>\n",
              "    <tr>\n",
              "      <th>504412-the+cave+of+the+golden+rose+1991</th>\n",
              "      <td>23</td>\n",
              "      <td>college/grad student</td>\n",
              "      <td>M</td>\n",
              "      <td>Adventure</td>\n",
              "      <td>5</td>\n",
              "      <td>1</td>\n",
              "    </tr>\n",
              "  </tbody>\n",
              "</table>\n",
              "</div>\n",
              "      <button class=\"colab-df-convert\" onclick=\"convertToInteractive('df-67d15297-aa1c-4fbd-9768-e6fdd761d915')\"\n",
              "              title=\"Convert this dataframe to an interactive table.\"\n",
              "              style=\"display:none;\">\n",
              "        \n",
              "  <svg xmlns=\"http://www.w3.org/2000/svg\" height=\"24px\"viewBox=\"0 0 24 24\"\n",
              "       width=\"24px\">\n",
              "    <path d=\"M0 0h24v24H0V0z\" fill=\"none\"/>\n",
              "    <path d=\"M18.56 5.44l.94 2.06.94-2.06 2.06-.94-2.06-.94-.94-2.06-.94 2.06-2.06.94zm-11 1L8.5 8.5l.94-2.06 2.06-.94-2.06-.94L8.5 2.5l-.94 2.06-2.06.94zm10 10l.94 2.06.94-2.06 2.06-.94-2.06-.94-.94-2.06-.94 2.06-2.06.94z\"/><path d=\"M17.41 7.96l-1.37-1.37c-.4-.4-.92-.59-1.43-.59-.52 0-1.04.2-1.43.59L10.3 9.45l-7.72 7.72c-.78.78-.78 2.05 0 2.83L4 21.41c.39.39.9.59 1.41.59.51 0 1.02-.2 1.41-.59l7.78-7.78 2.81-2.81c.8-.78.8-2.07 0-2.86zM5.41 20L4 18.59l7.72-7.72 1.47 1.35L5.41 20z\"/>\n",
              "  </svg>\n",
              "      </button>\n",
              "      \n",
              "  <style>\n",
              "    .colab-df-container {\n",
              "      display:flex;\n",
              "      flex-wrap:wrap;\n",
              "      gap: 12px;\n",
              "    }\n",
              "\n",
              "    .colab-df-convert {\n",
              "      background-color: #E8F0FE;\n",
              "      border: none;\n",
              "      border-radius: 50%;\n",
              "      cursor: pointer;\n",
              "      display: none;\n",
              "      fill: #1967D2;\n",
              "      height: 32px;\n",
              "      padding: 0 0 0 0;\n",
              "      width: 32px;\n",
              "    }\n",
              "\n",
              "    .colab-df-convert:hover {\n",
              "      background-color: #E2EBFA;\n",
              "      box-shadow: 0px 1px 2px rgba(60, 64, 67, 0.3), 0px 1px 3px 1px rgba(60, 64, 67, 0.15);\n",
              "      fill: #174EA6;\n",
              "    }\n",
              "\n",
              "    [theme=dark] .colab-df-convert {\n",
              "      background-color: #3B4455;\n",
              "      fill: #D2E3FC;\n",
              "    }\n",
              "\n",
              "    [theme=dark] .colab-df-convert:hover {\n",
              "      background-color: #434B5C;\n",
              "      box-shadow: 0px 1px 3px 1px rgba(0, 0, 0, 0.15);\n",
              "      filter: drop-shadow(0px 1px 2px rgba(0, 0, 0, 0.3));\n",
              "      fill: #FFFFFF;\n",
              "    }\n",
              "  </style>\n",
              "\n",
              "      <script>\n",
              "        const buttonEl =\n",
              "          document.querySelector('#df-67d15297-aa1c-4fbd-9768-e6fdd761d915 button.colab-df-convert');\n",
              "        buttonEl.style.display =\n",
              "          google.colab.kernel.accessAllowed ? 'block' : 'none';\n",
              "\n",
              "        async function convertToInteractive(key) {\n",
              "          const element = document.querySelector('#df-67d15297-aa1c-4fbd-9768-e6fdd761d915');\n",
              "          const dataTable =\n",
              "            await google.colab.kernel.invokeFunction('convertToInteractive',\n",
              "                                                     [key], {});\n",
              "          if (!dataTable) return;\n",
              "\n",
              "          const docLinkHtml = 'Like what you see? Visit the ' +\n",
              "            '<a target=\"_blank\" href=https://colab.research.google.com/notebooks/data_table.ipynb>data table notebook</a>'\n",
              "            + ' to learn more about interactive tables.';\n",
              "          element.innerHTML = '';\n",
              "          dataTable['output_type'] = 'display_data';\n",
              "          await google.colab.output.renderOutput(dataTable, element);\n",
              "          const docLink = document.createElement('div');\n",
              "          docLink.innerHTML = docLinkHtml;\n",
              "          element.appendChild(docLink);\n",
              "        }\n",
              "      </script>\n",
              "    </div>\n",
              "  </div>\n",
              "  "
            ]
          },
          "metadata": {},
          "execution_count": 35
        }
      ]
    },
    {
      "cell_type": "code",
      "source": [
        "combined_data_cleaned.Rating.value_counts()"
      ],
      "metadata": {
        "colab": {
          "base_uri": "https://localhost:8080/"
        },
        "id": "D74p7AeGEDbW",
        "outputId": "4d0ce48f-4770-4584-b993-1e7702a30e41"
      },
      "execution_count": 36,
      "outputs": [
        {
          "output_type": "execute_result",
          "data": {
            "text/plain": [
              "4    1048094\n",
              "5     475974\n",
              "3     408921\n",
              "2      35732\n",
              "1       1286\n",
              "Name: Rating, dtype: int64"
            ]
          },
          "metadata": {},
          "execution_count": 36
        }
      ]
    },
    {
      "cell_type": "code",
      "source": [
        "combined_data_cleaned.Rating_Level.value_counts()"
      ],
      "metadata": {
        "colab": {
          "base_uri": "https://localhost:8080/"
        },
        "id": "BEFoboDuEI8D",
        "outputId": "47c07de6-48cb-442b-89db-5a0ce9751db0"
      },
      "execution_count": 37,
      "outputs": [
        {
          "output_type": "execute_result",
          "data": {
            "text/plain": [
              "1    1524068\n",
              "0     445939\n",
              "Name: Rating_Level, dtype: int64"
            ]
          },
          "metadata": {},
          "execution_count": 37
        }
      ]
    },
    {
      "cell_type": "markdown",
      "source": [
        "## Dropping Duplicates"
      ],
      "metadata": {
        "id": "e_mexLvbFz_t"
      }
    },
    {
      "cell_type": "code",
      "source": [
        "combined_data_cleaned_new = combined_data_cleaned.drop(columns=\"Rating\").drop_duplicates()\n",
        "combined_data_cleaned_new.head()"
      ],
      "metadata": {
        "colab": {
          "base_uri": "https://localhost:8080/",
          "height": 238
        },
        "id": "rX17BnUpELLT",
        "outputId": "73562cd4-a897-492f-bc6e-5e757fe2e394"
      },
      "execution_count": 38,
      "outputs": [
        {
          "output_type": "execute_result",
          "data": {
            "text/plain": [
              "                                         Age            Occupation Gender  \\\n",
              "User_Movie                                                                  \n",
              "256889-the+cave+of+the+golden+rose+1991   33  college/grad student      F   \n",
              "704061-the+cave+of+the+golden+rose+1991   29       sales/marketing      M   \n",
              "743279-the+cave+of+the+golden+rose+1991   33  executive/managerial      M   \n",
              "657376-the+cave+of+the+golden+rose+1991   32  college/grad student      M   \n",
              "504412-the+cave+of+the+golden+rose+1991   23  college/grad student      M   \n",
              "\n",
              "                                             Genre  Rating_Level  \n",
              "User_Movie                                                        \n",
              "256889-the+cave+of+the+golden+rose+1991  Adventure             1  \n",
              "704061-the+cave+of+the+golden+rose+1991  Adventure             0  \n",
              "743279-the+cave+of+the+golden+rose+1991  Adventure             1  \n",
              "657376-the+cave+of+the+golden+rose+1991  Adventure             1  \n",
              "504412-the+cave+of+the+golden+rose+1991  Adventure             1  "
            ],
            "text/html": [
              "\n",
              "  <div id=\"df-ccdd7cac-4c81-4f2a-a2ad-3be36803f519\">\n",
              "    <div class=\"colab-df-container\">\n",
              "      <div>\n",
              "<style scoped>\n",
              "    .dataframe tbody tr th:only-of-type {\n",
              "        vertical-align: middle;\n",
              "    }\n",
              "\n",
              "    .dataframe tbody tr th {\n",
              "        vertical-align: top;\n",
              "    }\n",
              "\n",
              "    .dataframe thead th {\n",
              "        text-align: right;\n",
              "    }\n",
              "</style>\n",
              "<table border=\"1\" class=\"dataframe\">\n",
              "  <thead>\n",
              "    <tr style=\"text-align: right;\">\n",
              "      <th></th>\n",
              "      <th>Age</th>\n",
              "      <th>Occupation</th>\n",
              "      <th>Gender</th>\n",
              "      <th>Genre</th>\n",
              "      <th>Rating_Level</th>\n",
              "    </tr>\n",
              "    <tr>\n",
              "      <th>User_Movie</th>\n",
              "      <th></th>\n",
              "      <th></th>\n",
              "      <th></th>\n",
              "      <th></th>\n",
              "      <th></th>\n",
              "    </tr>\n",
              "  </thead>\n",
              "  <tbody>\n",
              "    <tr>\n",
              "      <th>256889-the+cave+of+the+golden+rose+1991</th>\n",
              "      <td>33</td>\n",
              "      <td>college/grad student</td>\n",
              "      <td>F</td>\n",
              "      <td>Adventure</td>\n",
              "      <td>1</td>\n",
              "    </tr>\n",
              "    <tr>\n",
              "      <th>704061-the+cave+of+the+golden+rose+1991</th>\n",
              "      <td>29</td>\n",
              "      <td>sales/marketing</td>\n",
              "      <td>M</td>\n",
              "      <td>Adventure</td>\n",
              "      <td>0</td>\n",
              "    </tr>\n",
              "    <tr>\n",
              "      <th>743279-the+cave+of+the+golden+rose+1991</th>\n",
              "      <td>33</td>\n",
              "      <td>executive/managerial</td>\n",
              "      <td>M</td>\n",
              "      <td>Adventure</td>\n",
              "      <td>1</td>\n",
              "    </tr>\n",
              "    <tr>\n",
              "      <th>657376-the+cave+of+the+golden+rose+1991</th>\n",
              "      <td>32</td>\n",
              "      <td>college/grad student</td>\n",
              "      <td>M</td>\n",
              "      <td>Adventure</td>\n",
              "      <td>1</td>\n",
              "    </tr>\n",
              "    <tr>\n",
              "      <th>504412-the+cave+of+the+golden+rose+1991</th>\n",
              "      <td>23</td>\n",
              "      <td>college/grad student</td>\n",
              "      <td>M</td>\n",
              "      <td>Adventure</td>\n",
              "      <td>1</td>\n",
              "    </tr>\n",
              "  </tbody>\n",
              "</table>\n",
              "</div>\n",
              "      <button class=\"colab-df-convert\" onclick=\"convertToInteractive('df-ccdd7cac-4c81-4f2a-a2ad-3be36803f519')\"\n",
              "              title=\"Convert this dataframe to an interactive table.\"\n",
              "              style=\"display:none;\">\n",
              "        \n",
              "  <svg xmlns=\"http://www.w3.org/2000/svg\" height=\"24px\"viewBox=\"0 0 24 24\"\n",
              "       width=\"24px\">\n",
              "    <path d=\"M0 0h24v24H0V0z\" fill=\"none\"/>\n",
              "    <path d=\"M18.56 5.44l.94 2.06.94-2.06 2.06-.94-2.06-.94-.94-2.06-.94 2.06-2.06.94zm-11 1L8.5 8.5l.94-2.06 2.06-.94-2.06-.94L8.5 2.5l-.94 2.06-2.06.94zm10 10l.94 2.06.94-2.06 2.06-.94-2.06-.94-.94-2.06-.94 2.06-2.06.94z\"/><path d=\"M17.41 7.96l-1.37-1.37c-.4-.4-.92-.59-1.43-.59-.52 0-1.04.2-1.43.59L10.3 9.45l-7.72 7.72c-.78.78-.78 2.05 0 2.83L4 21.41c.39.39.9.59 1.41.59.51 0 1.02-.2 1.41-.59l7.78-7.78 2.81-2.81c.8-.78.8-2.07 0-2.86zM5.41 20L4 18.59l7.72-7.72 1.47 1.35L5.41 20z\"/>\n",
              "  </svg>\n",
              "      </button>\n",
              "      \n",
              "  <style>\n",
              "    .colab-df-container {\n",
              "      display:flex;\n",
              "      flex-wrap:wrap;\n",
              "      gap: 12px;\n",
              "    }\n",
              "\n",
              "    .colab-df-convert {\n",
              "      background-color: #E8F0FE;\n",
              "      border: none;\n",
              "      border-radius: 50%;\n",
              "      cursor: pointer;\n",
              "      display: none;\n",
              "      fill: #1967D2;\n",
              "      height: 32px;\n",
              "      padding: 0 0 0 0;\n",
              "      width: 32px;\n",
              "    }\n",
              "\n",
              "    .colab-df-convert:hover {\n",
              "      background-color: #E2EBFA;\n",
              "      box-shadow: 0px 1px 2px rgba(60, 64, 67, 0.3), 0px 1px 3px 1px rgba(60, 64, 67, 0.15);\n",
              "      fill: #174EA6;\n",
              "    }\n",
              "\n",
              "    [theme=dark] .colab-df-convert {\n",
              "      background-color: #3B4455;\n",
              "      fill: #D2E3FC;\n",
              "    }\n",
              "\n",
              "    [theme=dark] .colab-df-convert:hover {\n",
              "      background-color: #434B5C;\n",
              "      box-shadow: 0px 1px 3px 1px rgba(0, 0, 0, 0.15);\n",
              "      filter: drop-shadow(0px 1px 2px rgba(0, 0, 0, 0.3));\n",
              "      fill: #FFFFFF;\n",
              "    }\n",
              "  </style>\n",
              "\n",
              "      <script>\n",
              "        const buttonEl =\n",
              "          document.querySelector('#df-ccdd7cac-4c81-4f2a-a2ad-3be36803f519 button.colab-df-convert');\n",
              "        buttonEl.style.display =\n",
              "          google.colab.kernel.accessAllowed ? 'block' : 'none';\n",
              "\n",
              "        async function convertToInteractive(key) {\n",
              "          const element = document.querySelector('#df-ccdd7cac-4c81-4f2a-a2ad-3be36803f519');\n",
              "          const dataTable =\n",
              "            await google.colab.kernel.invokeFunction('convertToInteractive',\n",
              "                                                     [key], {});\n",
              "          if (!dataTable) return;\n",
              "\n",
              "          const docLinkHtml = 'Like what you see? Visit the ' +\n",
              "            '<a target=\"_blank\" href=https://colab.research.google.com/notebooks/data_table.ipynb>data table notebook</a>'\n",
              "            + ' to learn more about interactive tables.';\n",
              "          element.innerHTML = '';\n",
              "          dataTable['output_type'] = 'display_data';\n",
              "          await google.colab.output.renderOutput(dataTable, element);\n",
              "          const docLink = document.createElement('div');\n",
              "          docLink.innerHTML = docLinkHtml;\n",
              "          element.appendChild(docLink);\n",
              "        }\n",
              "      </script>\n",
              "    </div>\n",
              "  </div>\n",
              "  "
            ]
          },
          "metadata": {},
          "execution_count": 38
        }
      ]
    },
    {
      "cell_type": "code",
      "source": [
        "combined_data_cleaned_new.info()"
      ],
      "metadata": {
        "colab": {
          "base_uri": "https://localhost:8080/"
        },
        "id": "6EPhczq4EZDZ",
        "outputId": "9269cd69-6021-40b4-eb95-28a4befa5d69"
      },
      "execution_count": 39,
      "outputs": [
        {
          "output_type": "stream",
          "name": "stdout",
          "text": [
            "<class 'pandas.core.frame.DataFrame'>\n",
            "Index: 42074 entries, 256889-the+cave+of+the+golden+rose+1991 to 648565-hercules+in+new+york+1969\n",
            "Data columns (total 5 columns):\n",
            " #   Column        Non-Null Count  Dtype \n",
            "---  ------        --------------  ----- \n",
            " 0   Age           42074 non-null  int64 \n",
            " 1   Occupation    42074 non-null  object\n",
            " 2   Gender        42074 non-null  object\n",
            " 3   Genre         42074 non-null  object\n",
            " 4   Rating_Level  42074 non-null  int64 \n",
            "dtypes: int64(2), object(3)\n",
            "memory usage: 1.9+ MB\n"
          ]
        }
      ]
    },
    {
      "cell_type": "code",
      "source": [
        "combined_data_cleaned_new.Occupation.value_counts()"
      ],
      "metadata": {
        "colab": {
          "base_uri": "https://localhost:8080/"
        },
        "id": "Ya7Wj8iMFAwY",
        "outputId": "23e9691a-2722-4143-af27-5c535db1f354"
      },
      "execution_count": 40,
      "outputs": [
        {
          "output_type": "execute_result",
          "data": {
            "text/plain": [
              "executive/managerial      3797\n",
              "retired                   3448\n",
              "academic/educator         3446\n",
              "other or not specified    3038\n",
              "sales/marketing           2894\n",
              "self-employed             2716\n",
              "scientist                 2664\n",
              "college/grad student      2595\n",
              "homemaker                 2430\n",
              "artist                    2328\n",
              "clerical/admin            2077\n",
              "K-12 student              1953\n",
              "writer                    1526\n",
              "doctor/health care        1284\n",
              "technician/engineer       1224\n",
              "programmer                1017\n",
              "lawyer                    1000\n",
              "customer service           859\n",
              "tradesman/craftsman        798\n",
              "unemployed                 748\n",
              "farmer                     232\n",
              "Name: Occupation, dtype: int64"
            ]
          },
          "metadata": {},
          "execution_count": 40
        }
      ]
    },
    {
      "cell_type": "markdown",
      "source": [
        "## Dropping Unwanted Values"
      ],
      "metadata": {
        "id": "-0K7eO1HF2rY"
      }
    },
    {
      "cell_type": "code",
      "source": [
        "combined_data_cleaned_new = combined_data_cleaned_new[combined_data_cleaned_new.Occupation != \"other or not specified\"]\n",
        "len(combined_data_cleaned_new)"
      ],
      "metadata": {
        "colab": {
          "base_uri": "https://localhost:8080/"
        },
        "id": "9ZD9MX-xFNDx",
        "outputId": "1205e300-a6d4-49c7-99e3-0ae9e4c0a681"
      },
      "execution_count": 41,
      "outputs": [
        {
          "output_type": "execute_result",
          "data": {
            "text/plain": [
              "39036"
            ]
          },
          "metadata": {},
          "execution_count": 41
        }
      ]
    },
    {
      "cell_type": "code",
      "source": [
        "combined_data_cleaned_new.Occupation.unique()"
      ],
      "metadata": {
        "colab": {
          "base_uri": "https://localhost:8080/"
        },
        "id": "wnCFttxIFbEs",
        "outputId": "a76ef5bf-3339-4f82-e221-1da3218a8b1d"
      },
      "execution_count": 42,
      "outputs": [
        {
          "output_type": "execute_result",
          "data": {
            "text/plain": [
              "array(['college/grad student', 'sales/marketing', 'executive/managerial',\n",
              "       'scientist', 'K-12 student', 'self-employed', 'clerical/admin',\n",
              "       'retired', 'customer service', 'academic/educator',\n",
              "       'technician/engineer', 'artist', 'homemaker', 'doctor/health care',\n",
              "       'unemployed', 'tradesman/craftsman', 'lawyer', 'programmer',\n",
              "       'writer', 'farmer'], dtype=object)"
            ]
          },
          "metadata": {},
          "execution_count": 42
        }
      ]
    },
    {
      "cell_type": "code",
      "source": [
        "combined_data_cleaned_new.Gender.value_counts()"
      ],
      "metadata": {
        "colab": {
          "base_uri": "https://localhost:8080/"
        },
        "id": "03uriPcTGFu6",
        "outputId": "2926e08d-5fae-4578-dfec-0ee64b07f8dd"
      },
      "execution_count": 43,
      "outputs": [
        {
          "output_type": "execute_result",
          "data": {
            "text/plain": [
              "M    22530\n",
              "F    16506\n",
              "Name: Gender, dtype: int64"
            ]
          },
          "metadata": {},
          "execution_count": 43
        }
      ]
    },
    {
      "cell_type": "markdown",
      "source": [
        "# Making Columns into Categorical for Classifier"
      ],
      "metadata": {
        "id": "WHECZnQxXJj4"
      }
    },
    {
      "cell_type": "code",
      "source": [
        "combined_data_cleaned_new.info()"
      ],
      "metadata": {
        "colab": {
          "base_uri": "https://localhost:8080/"
        },
        "id": "DpCZQ2VmX2Oc",
        "outputId": "4aa499ff-0e8d-4701-e79b-8aef4b9d5c3b"
      },
      "execution_count": 44,
      "outputs": [
        {
          "output_type": "stream",
          "name": "stdout",
          "text": [
            "<class 'pandas.core.frame.DataFrame'>\n",
            "Index: 39036 entries, 256889-the+cave+of+the+golden+rose+1991 to 699213-deadly+friend+1986\n",
            "Data columns (total 5 columns):\n",
            " #   Column        Non-Null Count  Dtype \n",
            "---  ------        --------------  ----- \n",
            " 0   Age           39036 non-null  int64 \n",
            " 1   Occupation    39036 non-null  object\n",
            " 2   Gender        39036 non-null  object\n",
            " 3   Genre         39036 non-null  object\n",
            " 4   Rating_Level  39036 non-null  int64 \n",
            "dtypes: int64(2), object(3)\n",
            "memory usage: 1.8+ MB\n"
          ]
        }
      ]
    },
    {
      "cell_type": "code",
      "source": [
        "combined_data_cleaned_new_new = combined_data_cleaned_new.copy()\n",
        "combined_data_cleaned_new_new[\"Occupation\"] = combined_data_cleaned_new[\"Occupation\"].astype(\"category\")\n",
        "combined_data_cleaned_new_new[\"Gender\"] = combined_data_cleaned_new[\"Gender\"].astype(\"category\")\n",
        "combined_data_cleaned_new_new[\"Genre\"] = combined_data_cleaned_new[\"Genre\"].astype(\"category\")\n",
        "combined_data_cleaned_new_new"
      ],
      "metadata": {
        "colab": {
          "base_uri": "https://localhost:8080/",
          "height": 455
        },
        "id": "zGV-3o1EXJDH",
        "outputId": "355c5ed8-8254-4d77-ff63-a8c0b16d9903"
      },
      "execution_count": 45,
      "outputs": [
        {
          "output_type": "execute_result",
          "data": {
            "text/plain": [
              "                                                   Age            Occupation  \\\n",
              "User_Movie                                                                     \n",
              "256889-the+cave+of+the+golden+rose+1991             33  college/grad student   \n",
              "704061-the+cave+of+the+golden+rose+1991             29       sales/marketing   \n",
              "743279-the+cave+of+the+golden+rose+1991             33  executive/managerial   \n",
              "657376-the+cave+of+the+golden+rose+1991             32  college/grad student   \n",
              "504412-the+cave+of+the+golden+rose+1991             23  college/grad student   \n",
              "...                                                ...                   ...   \n",
              "213441-rec+genesis+2012                             82     academic/educator   \n",
              "86844-pharaohs++army+1995                           68               retired   \n",
              "742558-the+crocodile+hunter+collision+course+2002   43             scientist   \n",
              "270882-lawnmower+man+2+beyond+cyberspace+1996       42      customer service   \n",
              "699213-deadly+friend+1986                           38       sales/marketing   \n",
              "\n",
              "                                                  Gender      Genre  \\\n",
              "User_Movie                                                            \n",
              "256889-the+cave+of+the+golden+rose+1991                F  Adventure   \n",
              "704061-the+cave+of+the+golden+rose+1991                M  Adventure   \n",
              "743279-the+cave+of+the+golden+rose+1991                M  Adventure   \n",
              "657376-the+cave+of+the+golden+rose+1991                M  Adventure   \n",
              "504412-the+cave+of+the+golden+rose+1991                M  Adventure   \n",
              "...                                                  ...        ...   \n",
              "213441-rec+genesis+2012                                M     Horror   \n",
              "86844-pharaohs++army+1995                              F    Western   \n",
              "742558-the+crocodile+hunter+collision+course+2002      M     Family   \n",
              "270882-lawnmower+man+2+beyond+cyberspace+1996          M     Action   \n",
              "699213-deadly+friend+1986                              F     Horror   \n",
              "\n",
              "                                                   Rating_Level  \n",
              "User_Movie                                                       \n",
              "256889-the+cave+of+the+golden+rose+1991                       1  \n",
              "704061-the+cave+of+the+golden+rose+1991                       0  \n",
              "743279-the+cave+of+the+golden+rose+1991                       1  \n",
              "657376-the+cave+of+the+golden+rose+1991                       1  \n",
              "504412-the+cave+of+the+golden+rose+1991                       1  \n",
              "...                                                         ...  \n",
              "213441-rec+genesis+2012                                       0  \n",
              "86844-pharaohs++army+1995                                     0  \n",
              "742558-the+crocodile+hunter+collision+course+2002             0  \n",
              "270882-lawnmower+man+2+beyond+cyberspace+1996                 0  \n",
              "699213-deadly+friend+1986                                     0  \n",
              "\n",
              "[39036 rows x 5 columns]"
            ],
            "text/html": [
              "\n",
              "  <div id=\"df-6db2d421-904f-4fe9-a735-4c3b9ea5e37d\">\n",
              "    <div class=\"colab-df-container\">\n",
              "      <div>\n",
              "<style scoped>\n",
              "    .dataframe tbody tr th:only-of-type {\n",
              "        vertical-align: middle;\n",
              "    }\n",
              "\n",
              "    .dataframe tbody tr th {\n",
              "        vertical-align: top;\n",
              "    }\n",
              "\n",
              "    .dataframe thead th {\n",
              "        text-align: right;\n",
              "    }\n",
              "</style>\n",
              "<table border=\"1\" class=\"dataframe\">\n",
              "  <thead>\n",
              "    <tr style=\"text-align: right;\">\n",
              "      <th></th>\n",
              "      <th>Age</th>\n",
              "      <th>Occupation</th>\n",
              "      <th>Gender</th>\n",
              "      <th>Genre</th>\n",
              "      <th>Rating_Level</th>\n",
              "    </tr>\n",
              "    <tr>\n",
              "      <th>User_Movie</th>\n",
              "      <th></th>\n",
              "      <th></th>\n",
              "      <th></th>\n",
              "      <th></th>\n",
              "      <th></th>\n",
              "    </tr>\n",
              "  </thead>\n",
              "  <tbody>\n",
              "    <tr>\n",
              "      <th>256889-the+cave+of+the+golden+rose+1991</th>\n",
              "      <td>33</td>\n",
              "      <td>college/grad student</td>\n",
              "      <td>F</td>\n",
              "      <td>Adventure</td>\n",
              "      <td>1</td>\n",
              "    </tr>\n",
              "    <tr>\n",
              "      <th>704061-the+cave+of+the+golden+rose+1991</th>\n",
              "      <td>29</td>\n",
              "      <td>sales/marketing</td>\n",
              "      <td>M</td>\n",
              "      <td>Adventure</td>\n",
              "      <td>0</td>\n",
              "    </tr>\n",
              "    <tr>\n",
              "      <th>743279-the+cave+of+the+golden+rose+1991</th>\n",
              "      <td>33</td>\n",
              "      <td>executive/managerial</td>\n",
              "      <td>M</td>\n",
              "      <td>Adventure</td>\n",
              "      <td>1</td>\n",
              "    </tr>\n",
              "    <tr>\n",
              "      <th>657376-the+cave+of+the+golden+rose+1991</th>\n",
              "      <td>32</td>\n",
              "      <td>college/grad student</td>\n",
              "      <td>M</td>\n",
              "      <td>Adventure</td>\n",
              "      <td>1</td>\n",
              "    </tr>\n",
              "    <tr>\n",
              "      <th>504412-the+cave+of+the+golden+rose+1991</th>\n",
              "      <td>23</td>\n",
              "      <td>college/grad student</td>\n",
              "      <td>M</td>\n",
              "      <td>Adventure</td>\n",
              "      <td>1</td>\n",
              "    </tr>\n",
              "    <tr>\n",
              "      <th>...</th>\n",
              "      <td>...</td>\n",
              "      <td>...</td>\n",
              "      <td>...</td>\n",
              "      <td>...</td>\n",
              "      <td>...</td>\n",
              "    </tr>\n",
              "    <tr>\n",
              "      <th>213441-rec+genesis+2012</th>\n",
              "      <td>82</td>\n",
              "      <td>academic/educator</td>\n",
              "      <td>M</td>\n",
              "      <td>Horror</td>\n",
              "      <td>0</td>\n",
              "    </tr>\n",
              "    <tr>\n",
              "      <th>86844-pharaohs++army+1995</th>\n",
              "      <td>68</td>\n",
              "      <td>retired</td>\n",
              "      <td>F</td>\n",
              "      <td>Western</td>\n",
              "      <td>0</td>\n",
              "    </tr>\n",
              "    <tr>\n",
              "      <th>742558-the+crocodile+hunter+collision+course+2002</th>\n",
              "      <td>43</td>\n",
              "      <td>scientist</td>\n",
              "      <td>M</td>\n",
              "      <td>Family</td>\n",
              "      <td>0</td>\n",
              "    </tr>\n",
              "    <tr>\n",
              "      <th>270882-lawnmower+man+2+beyond+cyberspace+1996</th>\n",
              "      <td>42</td>\n",
              "      <td>customer service</td>\n",
              "      <td>M</td>\n",
              "      <td>Action</td>\n",
              "      <td>0</td>\n",
              "    </tr>\n",
              "    <tr>\n",
              "      <th>699213-deadly+friend+1986</th>\n",
              "      <td>38</td>\n",
              "      <td>sales/marketing</td>\n",
              "      <td>F</td>\n",
              "      <td>Horror</td>\n",
              "      <td>0</td>\n",
              "    </tr>\n",
              "  </tbody>\n",
              "</table>\n",
              "<p>39036 rows × 5 columns</p>\n",
              "</div>\n",
              "      <button class=\"colab-df-convert\" onclick=\"convertToInteractive('df-6db2d421-904f-4fe9-a735-4c3b9ea5e37d')\"\n",
              "              title=\"Convert this dataframe to an interactive table.\"\n",
              "              style=\"display:none;\">\n",
              "        \n",
              "  <svg xmlns=\"http://www.w3.org/2000/svg\" height=\"24px\"viewBox=\"0 0 24 24\"\n",
              "       width=\"24px\">\n",
              "    <path d=\"M0 0h24v24H0V0z\" fill=\"none\"/>\n",
              "    <path d=\"M18.56 5.44l.94 2.06.94-2.06 2.06-.94-2.06-.94-.94-2.06-.94 2.06-2.06.94zm-11 1L8.5 8.5l.94-2.06 2.06-.94-2.06-.94L8.5 2.5l-.94 2.06-2.06.94zm10 10l.94 2.06.94-2.06 2.06-.94-2.06-.94-.94-2.06-.94 2.06-2.06.94z\"/><path d=\"M17.41 7.96l-1.37-1.37c-.4-.4-.92-.59-1.43-.59-.52 0-1.04.2-1.43.59L10.3 9.45l-7.72 7.72c-.78.78-.78 2.05 0 2.83L4 21.41c.39.39.9.59 1.41.59.51 0 1.02-.2 1.41-.59l7.78-7.78 2.81-2.81c.8-.78.8-2.07 0-2.86zM5.41 20L4 18.59l7.72-7.72 1.47 1.35L5.41 20z\"/>\n",
              "  </svg>\n",
              "      </button>\n",
              "      \n",
              "  <style>\n",
              "    .colab-df-container {\n",
              "      display:flex;\n",
              "      flex-wrap:wrap;\n",
              "      gap: 12px;\n",
              "    }\n",
              "\n",
              "    .colab-df-convert {\n",
              "      background-color: #E8F0FE;\n",
              "      border: none;\n",
              "      border-radius: 50%;\n",
              "      cursor: pointer;\n",
              "      display: none;\n",
              "      fill: #1967D2;\n",
              "      height: 32px;\n",
              "      padding: 0 0 0 0;\n",
              "      width: 32px;\n",
              "    }\n",
              "\n",
              "    .colab-df-convert:hover {\n",
              "      background-color: #E2EBFA;\n",
              "      box-shadow: 0px 1px 2px rgba(60, 64, 67, 0.3), 0px 1px 3px 1px rgba(60, 64, 67, 0.15);\n",
              "      fill: #174EA6;\n",
              "    }\n",
              "\n",
              "    [theme=dark] .colab-df-convert {\n",
              "      background-color: #3B4455;\n",
              "      fill: #D2E3FC;\n",
              "    }\n",
              "\n",
              "    [theme=dark] .colab-df-convert:hover {\n",
              "      background-color: #434B5C;\n",
              "      box-shadow: 0px 1px 3px 1px rgba(0, 0, 0, 0.15);\n",
              "      filter: drop-shadow(0px 1px 2px rgba(0, 0, 0, 0.3));\n",
              "      fill: #FFFFFF;\n",
              "    }\n",
              "  </style>\n",
              "\n",
              "      <script>\n",
              "        const buttonEl =\n",
              "          document.querySelector('#df-6db2d421-904f-4fe9-a735-4c3b9ea5e37d button.colab-df-convert');\n",
              "        buttonEl.style.display =\n",
              "          google.colab.kernel.accessAllowed ? 'block' : 'none';\n",
              "\n",
              "        async function convertToInteractive(key) {\n",
              "          const element = document.querySelector('#df-6db2d421-904f-4fe9-a735-4c3b9ea5e37d');\n",
              "          const dataTable =\n",
              "            await google.colab.kernel.invokeFunction('convertToInteractive',\n",
              "                                                     [key], {});\n",
              "          if (!dataTable) return;\n",
              "\n",
              "          const docLinkHtml = 'Like what you see? Visit the ' +\n",
              "            '<a target=\"_blank\" href=https://colab.research.google.com/notebooks/data_table.ipynb>data table notebook</a>'\n",
              "            + ' to learn more about interactive tables.';\n",
              "          element.innerHTML = '';\n",
              "          dataTable['output_type'] = 'display_data';\n",
              "          await google.colab.output.renderOutput(dataTable, element);\n",
              "          const docLink = document.createElement('div');\n",
              "          docLink.innerHTML = docLinkHtml;\n",
              "          element.appendChild(docLink);\n",
              "        }\n",
              "      </script>\n",
              "    </div>\n",
              "  </div>\n",
              "  "
            ]
          },
          "metadata": {},
          "execution_count": 45
        }
      ]
    },
    {
      "cell_type": "code",
      "source": [
        "combined_data_cleaned_new_new.info()"
      ],
      "metadata": {
        "colab": {
          "base_uri": "https://localhost:8080/"
        },
        "id": "Uhabg0qkXJAf",
        "outputId": "2e3c7740-e0c4-4b79-e6e3-46790fc4d0c1"
      },
      "execution_count": 46,
      "outputs": [
        {
          "output_type": "stream",
          "name": "stdout",
          "text": [
            "<class 'pandas.core.frame.DataFrame'>\n",
            "Index: 39036 entries, 256889-the+cave+of+the+golden+rose+1991 to 699213-deadly+friend+1986\n",
            "Data columns (total 5 columns):\n",
            " #   Column        Non-Null Count  Dtype   \n",
            "---  ------        --------------  -----   \n",
            " 0   Age           39036 non-null  int64   \n",
            " 1   Occupation    39036 non-null  category\n",
            " 2   Gender        39036 non-null  category\n",
            " 3   Genre         39036 non-null  category\n",
            " 4   Rating_Level  39036 non-null  int64   \n",
            "dtypes: category(3), int64(2)\n",
            "memory usage: 1.0+ MB\n"
          ]
        }
      ]
    },
    {
      "cell_type": "code",
      "source": [
        "combined_data_cleaned_new = combined_data_cleaned_new_new.copy()"
      ],
      "metadata": {
        "id": "M6oogGByXI9-"
      },
      "execution_count": 47,
      "outputs": []
    },
    {
      "cell_type": "markdown",
      "source": [
        "# Train-Test Split"
      ],
      "metadata": {
        "id": "9coGOJRrGUqC"
      }
    },
    {
      "cell_type": "code",
      "source": [
        "X, y = combined_data_cleaned_new.iloc[:,:-1], combined_data_cleaned_new[\"Rating_Level\"]"
      ],
      "metadata": {
        "id": "wHzRCBvJGOxh"
      },
      "execution_count": 48,
      "outputs": []
    },
    {
      "cell_type": "code",
      "source": [
        "X.shape"
      ],
      "metadata": {
        "colab": {
          "base_uri": "https://localhost:8080/"
        },
        "id": "Kz2y2QmoHnt-",
        "outputId": "f654c8bb-d0cf-444d-d2c1-e814e9433cac"
      },
      "execution_count": 49,
      "outputs": [
        {
          "output_type": "execute_result",
          "data": {
            "text/plain": [
              "(39036, 4)"
            ]
          },
          "metadata": {},
          "execution_count": 49
        }
      ]
    },
    {
      "cell_type": "code",
      "source": [
        "y.shape"
      ],
      "metadata": {
        "colab": {
          "base_uri": "https://localhost:8080/"
        },
        "id": "9tvgU8CNHoTb",
        "outputId": "cc7e771c-f396-4ffd-d250-42b4cb553bcb"
      },
      "execution_count": 50,
      "outputs": [
        {
          "output_type": "execute_result",
          "data": {
            "text/plain": [
              "(39036,)"
            ]
          },
          "metadata": {},
          "execution_count": 50
        }
      ]
    },
    {
      "cell_type": "markdown",
      "source": [
        "Intentionally no stratification done.No Train, Val, Test split as that is not the aim of the demo"
      ],
      "metadata": {
        "id": "c_zQB5kGIrFa"
      }
    },
    {
      "cell_type": "code",
      "source": [
        "X_train, X_test, y_train, y_test = train_test_split(X, y, test_size=0.25,stratify=X[\"Age\"],\n",
        "                                                    random_state=42)"
      ],
      "metadata": {
        "id": "lz4o4C2HHrSa"
      },
      "execution_count": 51,
      "outputs": []
    },
    {
      "cell_type": "code",
      "source": [
        "X_train.shape"
      ],
      "metadata": {
        "colab": {
          "base_uri": "https://localhost:8080/"
        },
        "id": "wNGYqC7GIeiR",
        "outputId": "c58cf1a6-7439-45c3-bc24-edf9f7fbe99e"
      },
      "execution_count": 52,
      "outputs": [
        {
          "output_type": "execute_result",
          "data": {
            "text/plain": [
              "(29277, 4)"
            ]
          },
          "metadata": {},
          "execution_count": 52
        }
      ]
    },
    {
      "cell_type": "code",
      "source": [
        "X_test.shape"
      ],
      "metadata": {
        "colab": {
          "base_uri": "https://localhost:8080/"
        },
        "id": "NLVWQuM9IgLp",
        "outputId": "4148721a-2d2c-42f5-da9c-898b23492687"
      },
      "execution_count": 53,
      "outputs": [
        {
          "output_type": "execute_result",
          "data": {
            "text/plain": [
              "(9759, 4)"
            ]
          },
          "metadata": {},
          "execution_count": 53
        }
      ]
    },
    {
      "cell_type": "markdown",
      "source": [
        "# Setup Preprocessing ( for OHE of Cat Columns ) and Classification Pipeline"
      ],
      "metadata": {
        "id": "cBUCwwPKNy03"
      }
    },
    {
      "cell_type": "code",
      "source": [
        "categorical_features = [\"Occupation\", \"Gender\", \"Genre\"]\n",
        "categorical_transformer = OneHotEncoder(handle_unknown=\"ignore\")"
      ],
      "metadata": {
        "id": "7gYnGYxlOAzc"
      },
      "execution_count": 54,
      "outputs": []
    },
    {
      "cell_type": "code",
      "source": [
        "preprocessor = ColumnTransformer(\n",
        "    transformers=\n",
        "        [(\"cat\", categorical_transformer, categorical_features)],\n",
        "        remainder=\"drop\")"
      ],
      "metadata": {
        "id": "PmJYQaRjN3eT"
      },
      "execution_count": 55,
      "outputs": []
    },
    {
      "cell_type": "code",
      "source": [
        "model_pipeline = Pipeline(steps=[(\"preprocessor\", preprocessor), (\"classifier\", RandomForestClassifier())])"
      ],
      "metadata": {
        "id": "wQqLarWLN3bl"
      },
      "execution_count": 56,
      "outputs": []
    },
    {
      "cell_type": "markdown",
      "source": [
        "# Train a Random Forect Classifier with Gridsearch"
      ],
      "metadata": {
        "id": "WCyWrl3eIuyE"
      }
    },
    {
      "cell_type": "code",
      "source": [
        "param_grid = { \n",
        "    'classifier__n_estimators': [100,200],\n",
        "    'classifier__max_features': ['sqrt', 'log2',None],\n",
        "    'classifier__max_depth' : [3,5,10]\n",
        "}"
      ],
      "metadata": {
        "id": "FoOjv54RJT1t"
      },
      "execution_count": 57,
      "outputs": []
    },
    {
      "cell_type": "code",
      "source": [
        "grid = GridSearchCV(estimator=model_pipeline, param_grid=param_grid, cv= 5,n_jobs=-1,verbose=3)\n",
        "grid.fit(X_train,y_train)"
      ],
      "metadata": {
        "colab": {
          "base_uri": "https://localhost:8080/"
        },
        "id": "F2jUZZ9jJz50",
        "outputId": "a79571ef-73b2-4d76-d0dd-9b412211dd9a"
      },
      "execution_count": 59,
      "outputs": [
        {
          "output_type": "stream",
          "name": "stdout",
          "text": [
            "Fitting 5 folds for each of 18 candidates, totalling 90 fits\n"
          ]
        },
        {
          "output_type": "execute_result",
          "data": {
            "text/plain": [
              "GridSearchCV(cv=5,\n",
              "             estimator=Pipeline(steps=[('preprocessor',\n",
              "                                        ColumnTransformer(transformers=[('cat',\n",
              "                                                                         OneHotEncoder(handle_unknown='ignore'),\n",
              "                                                                         ['Occupation',\n",
              "                                                                          'Gender',\n",
              "                                                                          'Genre'])])),\n",
              "                                       ('classifier',\n",
              "                                        RandomForestClassifier())]),\n",
              "             n_jobs=-1,\n",
              "             param_grid={'classifier__max_depth': [3, 5, 10],\n",
              "                         'classifier__max_features': ['sqrt', 'log2', None],\n",
              "                         'classifier__n_estimators': [100, 200]},\n",
              "             verbose=3)"
            ]
          },
          "metadata": {},
          "execution_count": 59
        }
      ]
    },
    {
      "cell_type": "code",
      "source": [
        "print(\"Best params:\")\n",
        "print(grid.best_params_)"
      ],
      "metadata": {
        "colab": {
          "base_uri": "https://localhost:8080/"
        },
        "id": "ji35lM6rQmYU",
        "outputId": "687f32ae-12d0-4943-88eb-acb905cfb1a5"
      },
      "execution_count": 60,
      "outputs": [
        {
          "output_type": "stream",
          "name": "stdout",
          "text": [
            "Best params:\n",
            "{'classifier__max_depth': 3, 'classifier__max_features': 'sqrt', 'classifier__n_estimators': 100}\n"
          ]
        }
      ]
    },
    {
      "cell_type": "code",
      "source": [
        "print(f\"Internal CV score: {grid.best_score_:.3f}\")"
      ],
      "metadata": {
        "colab": {
          "base_uri": "https://localhost:8080/"
        },
        "id": "aKe5i9ULQ3zH",
        "outputId": "100ad181-3b43-4a0e-aa99-313d5edb1bb5"
      },
      "execution_count": 61,
      "outputs": [
        {
          "output_type": "stream",
          "name": "stdout",
          "text": [
            "Internal CV score: 0.570\n"
          ]
        }
      ]
    },
    {
      "cell_type": "code",
      "source": [
        "best_model = grid.best_estimator_\n",
        "best_model"
      ],
      "metadata": {
        "colab": {
          "base_uri": "https://localhost:8080/"
        },
        "id": "LFKpppH_RAKH",
        "outputId": "f3af52fa-6fdb-46d4-b7bc-509f416353c7"
      },
      "execution_count": 62,
      "outputs": [
        {
          "output_type": "execute_result",
          "data": {
            "text/plain": [
              "Pipeline(steps=[('preprocessor',\n",
              "                 ColumnTransformer(transformers=[('cat',\n",
              "                                                  OneHotEncoder(handle_unknown='ignore'),\n",
              "                                                  ['Occupation', 'Gender',\n",
              "                                                   'Genre'])])),\n",
              "                ('classifier',\n",
              "                 RandomForestClassifier(max_depth=3, max_features='sqrt'))])"
            ]
          },
          "metadata": {},
          "execution_count": 62
        }
      ]
    },
    {
      "cell_type": "code",
      "source": [
        "print(\n",
        "    (\n",
        "        \"best classification from grid search: %.2f\"\n",
        "        % best_model.score(X_test, y_test)\n",
        "    )\n",
        ")"
      ],
      "metadata": {
        "colab": {
          "base_uri": "https://localhost:8080/"
        },
        "id": "uVzZiTNDSAYF",
        "outputId": "2f1abddf-dee0-482b-e766-79eb91cbf004"
      },
      "execution_count": 72,
      "outputs": [
        {
          "output_type": "stream",
          "name": "stdout",
          "text": [
            "best classification from grid search: 0.57\n"
          ]
        }
      ]
    },
    {
      "cell_type": "code",
      "source": [
        "y_pred = best_model.predict(X_test)\n",
        "y_pred"
      ],
      "metadata": {
        "colab": {
          "base_uri": "https://localhost:8080/"
        },
        "id": "wKW29TOOU4Y8",
        "outputId": "c7f78fc0-1062-49d8-bf20-614a616bf2c2"
      },
      "execution_count": 73,
      "outputs": [
        {
          "output_type": "execute_result",
          "data": {
            "text/plain": [
              "array([1, 1, 1, ..., 1, 1, 1])"
            ]
          },
          "metadata": {},
          "execution_count": 73
        }
      ]
    },
    {
      "cell_type": "code",
      "source": [
        "y_pred.shape"
      ],
      "metadata": {
        "colab": {
          "base_uri": "https://localhost:8080/"
        },
        "id": "tN6es5dOVBiB",
        "outputId": "a85ebed4-0a51-4692-98e5-618cf2fc8a08"
      },
      "execution_count": 65,
      "outputs": [
        {
          "output_type": "execute_result",
          "data": {
            "text/plain": [
              "(9759,)"
            ]
          },
          "metadata": {},
          "execution_count": 65
        }
      ]
    },
    {
      "cell_type": "code",
      "source": [
        "best_model['classifier'].feature_importances_"
      ],
      "metadata": {
        "colab": {
          "base_uri": "https://localhost:8080/"
        },
        "id": "S1b5jzNAeycv",
        "outputId": "a1c5dd68-3f7e-4aeb-9afb-528d172c46f2"
      },
      "execution_count": 67,
      "outputs": [
        {
          "output_type": "execute_result",
          "data": {
            "text/plain": [
              "array([0.05141235, 0.00838458, 0.00616121, 0.00439756, 0.00322696,\n",
              "       0.02736733, 0.08503067, 0.03573986, 0.01647904, 0.00684822,\n",
              "       0.00956428, 0.0038775 , 0.00758283, 0.03183586, 0.00122686,\n",
              "       0.00198019, 0.007774  , 0.00068036, 0.00264803, 0.03776809,\n",
              "       0.12236642, 0.14735025, 0.00362724, 0.00436939, 0.00920209,\n",
              "       0.01304828, 0.01707312, 0.00841505, 0.0745933 , 0.01524129,\n",
              "       0.02907703, 0.00310745, 0.00526403, 0.01990225, 0.01676194,\n",
              "       0.09624409, 0.00707905, 0.00220129, 0.00928575, 0.01886511,\n",
              "       0.00292162, 0.02401819])"
            ]
          },
          "metadata": {},
          "execution_count": 67
        }
      ]
    },
    {
      "cell_type": "code",
      "source": [
        "best_model['preprocessor']"
      ],
      "metadata": {
        "colab": {
          "base_uri": "https://localhost:8080/"
        },
        "id": "_nPwu0NqfVs0",
        "outputId": "92d12a7a-27b7-484b-a532-63bfc11351d1"
      },
      "execution_count": 68,
      "outputs": [
        {
          "output_type": "execute_result",
          "data": {
            "text/plain": [
              "ColumnTransformer(transformers=[('cat', OneHotEncoder(handle_unknown='ignore'),\n",
              "                                 ['Occupation', 'Gender', 'Genre'])])"
            ]
          },
          "metadata": {},
          "execution_count": 68
        }
      ]
    },
    {
      "cell_type": "markdown",
      "source": [
        "# Write to CSV"
      ],
      "metadata": {
        "id": "spwe9Pi8dI4s"
      }
    },
    {
      "cell_type": "code",
      "source": [
        "score_df = pd.DataFrame(y_pred,columns=[\"score\"],index=X_test.index)\n",
        "label_df = pd.DataFrame(y_test).rename(columns={\"Rating_Level\":\"label_value\"}) "
      ],
      "metadata": {
        "id": "cN1P-FJOeZIq"
      },
      "execution_count": 69,
      "outputs": []
    },
    {
      "cell_type": "code",
      "source": [
        "final_df = pd.concat([score_df,label_df,X_test],axis=1)\n",
        "final_df"
      ],
      "metadata": {
        "colab": {
          "base_uri": "https://localhost:8080/",
          "height": 455
        },
        "id": "5TZYeXBkdJ-w",
        "outputId": "99e81286-b521-4e11-a549-34601cc40be5"
      },
      "execution_count": 70,
      "outputs": [
        {
          "output_type": "execute_result",
          "data": {
            "text/plain": [
              "                                                    score  label_value  Age  \\\n",
              "User_Movie                                                                    \n",
              "333449-a+better+tomorrow+iii+love+and+death+in+...      1            0   59   \n",
              "520321-into+the+woods+1991                              1            1   50   \n",
              "438331-seven+samurai+1954                               1            0   26   \n",
              "25685-north+by+northwest+1959                           1            1   88   \n",
              "741056-frozen+planet+2011                               1            1   28   \n",
              "...                                                   ...          ...  ...   \n",
              "530555-no+greater+love+2009                             1            0   54   \n",
              "516885-the+kingdom+ii+1997                              1            1   33   \n",
              "408947-committed+2000                                   1            0   75   \n",
              "135766-the+tragedy+of+macbeth+1971                      1            0   25   \n",
              "689670-femme+fatale+2002                                1            0   24   \n",
              "\n",
              "                                                              Occupation  \\\n",
              "User_Movie                                                                 \n",
              "333449-a+better+tomorrow+iii+love+and+death+in+...               retired   \n",
              "520321-into+the+woods+1991                          executive/managerial   \n",
              "438331-seven+samurai+1954                                sales/marketing   \n",
              "25685-north+by+northwest+1959                             clerical/admin   \n",
              "741056-frozen+planet+2011                                         farmer   \n",
              "...                                                                  ...   \n",
              "530555-no+greater+love+2009                           doctor/health care   \n",
              "516885-the+kingdom+ii+1997                                     homemaker   \n",
              "408947-committed+2000                               executive/managerial   \n",
              "135766-the+tragedy+of+macbeth+1971                                writer   \n",
              "689670-femme+fatale+2002                                          artist   \n",
              "\n",
              "                                                   Gender        Genre  \n",
              "User_Movie                                                              \n",
              "333449-a+better+tomorrow+iii+love+and+death+in+...      F          War  \n",
              "520321-into+the+woods+1991                              M        Drama  \n",
              "438331-seven+samurai+1954                               F       Action  \n",
              "25685-north+by+northwest+1959                           M      Mystery  \n",
              "741056-frozen+planet+2011                               M  Documentary  \n",
              "...                                                   ...          ...  \n",
              "530555-no+greater+love+2009                             F  Documentary  \n",
              "516885-the+kingdom+ii+1997                              F       Horror  \n",
              "408947-committed+2000                                   F       Comedy  \n",
              "135766-the+tragedy+of+macbeth+1971                      F          War  \n",
              "689670-femme+fatale+2002                                M     Thriller  \n",
              "\n",
              "[9759 rows x 6 columns]"
            ],
            "text/html": [
              "\n",
              "  <div id=\"df-4c370b39-1d87-4557-a61d-025707e81865\">\n",
              "    <div class=\"colab-df-container\">\n",
              "      <div>\n",
              "<style scoped>\n",
              "    .dataframe tbody tr th:only-of-type {\n",
              "        vertical-align: middle;\n",
              "    }\n",
              "\n",
              "    .dataframe tbody tr th {\n",
              "        vertical-align: top;\n",
              "    }\n",
              "\n",
              "    .dataframe thead th {\n",
              "        text-align: right;\n",
              "    }\n",
              "</style>\n",
              "<table border=\"1\" class=\"dataframe\">\n",
              "  <thead>\n",
              "    <tr style=\"text-align: right;\">\n",
              "      <th></th>\n",
              "      <th>score</th>\n",
              "      <th>label_value</th>\n",
              "      <th>Age</th>\n",
              "      <th>Occupation</th>\n",
              "      <th>Gender</th>\n",
              "      <th>Genre</th>\n",
              "    </tr>\n",
              "    <tr>\n",
              "      <th>User_Movie</th>\n",
              "      <th></th>\n",
              "      <th></th>\n",
              "      <th></th>\n",
              "      <th></th>\n",
              "      <th></th>\n",
              "      <th></th>\n",
              "    </tr>\n",
              "  </thead>\n",
              "  <tbody>\n",
              "    <tr>\n",
              "      <th>333449-a+better+tomorrow+iii+love+and+death+in+saigon+1989</th>\n",
              "      <td>1</td>\n",
              "      <td>0</td>\n",
              "      <td>59</td>\n",
              "      <td>retired</td>\n",
              "      <td>F</td>\n",
              "      <td>War</td>\n",
              "    </tr>\n",
              "    <tr>\n",
              "      <th>520321-into+the+woods+1991</th>\n",
              "      <td>1</td>\n",
              "      <td>1</td>\n",
              "      <td>50</td>\n",
              "      <td>executive/managerial</td>\n",
              "      <td>M</td>\n",
              "      <td>Drama</td>\n",
              "    </tr>\n",
              "    <tr>\n",
              "      <th>438331-seven+samurai+1954</th>\n",
              "      <td>1</td>\n",
              "      <td>0</td>\n",
              "      <td>26</td>\n",
              "      <td>sales/marketing</td>\n",
              "      <td>F</td>\n",
              "      <td>Action</td>\n",
              "    </tr>\n",
              "    <tr>\n",
              "      <th>25685-north+by+northwest+1959</th>\n",
              "      <td>1</td>\n",
              "      <td>1</td>\n",
              "      <td>88</td>\n",
              "      <td>clerical/admin</td>\n",
              "      <td>M</td>\n",
              "      <td>Mystery</td>\n",
              "    </tr>\n",
              "    <tr>\n",
              "      <th>741056-frozen+planet+2011</th>\n",
              "      <td>1</td>\n",
              "      <td>1</td>\n",
              "      <td>28</td>\n",
              "      <td>farmer</td>\n",
              "      <td>M</td>\n",
              "      <td>Documentary</td>\n",
              "    </tr>\n",
              "    <tr>\n",
              "      <th>...</th>\n",
              "      <td>...</td>\n",
              "      <td>...</td>\n",
              "      <td>...</td>\n",
              "      <td>...</td>\n",
              "      <td>...</td>\n",
              "      <td>...</td>\n",
              "    </tr>\n",
              "    <tr>\n",
              "      <th>530555-no+greater+love+2009</th>\n",
              "      <td>1</td>\n",
              "      <td>0</td>\n",
              "      <td>54</td>\n",
              "      <td>doctor/health care</td>\n",
              "      <td>F</td>\n",
              "      <td>Documentary</td>\n",
              "    </tr>\n",
              "    <tr>\n",
              "      <th>516885-the+kingdom+ii+1997</th>\n",
              "      <td>1</td>\n",
              "      <td>1</td>\n",
              "      <td>33</td>\n",
              "      <td>homemaker</td>\n",
              "      <td>F</td>\n",
              "      <td>Horror</td>\n",
              "    </tr>\n",
              "    <tr>\n",
              "      <th>408947-committed+2000</th>\n",
              "      <td>1</td>\n",
              "      <td>0</td>\n",
              "      <td>75</td>\n",
              "      <td>executive/managerial</td>\n",
              "      <td>F</td>\n",
              "      <td>Comedy</td>\n",
              "    </tr>\n",
              "    <tr>\n",
              "      <th>135766-the+tragedy+of+macbeth+1971</th>\n",
              "      <td>1</td>\n",
              "      <td>0</td>\n",
              "      <td>25</td>\n",
              "      <td>writer</td>\n",
              "      <td>F</td>\n",
              "      <td>War</td>\n",
              "    </tr>\n",
              "    <tr>\n",
              "      <th>689670-femme+fatale+2002</th>\n",
              "      <td>1</td>\n",
              "      <td>0</td>\n",
              "      <td>24</td>\n",
              "      <td>artist</td>\n",
              "      <td>M</td>\n",
              "      <td>Thriller</td>\n",
              "    </tr>\n",
              "  </tbody>\n",
              "</table>\n",
              "<p>9759 rows × 6 columns</p>\n",
              "</div>\n",
              "      <button class=\"colab-df-convert\" onclick=\"convertToInteractive('df-4c370b39-1d87-4557-a61d-025707e81865')\"\n",
              "              title=\"Convert this dataframe to an interactive table.\"\n",
              "              style=\"display:none;\">\n",
              "        \n",
              "  <svg xmlns=\"http://www.w3.org/2000/svg\" height=\"24px\"viewBox=\"0 0 24 24\"\n",
              "       width=\"24px\">\n",
              "    <path d=\"M0 0h24v24H0V0z\" fill=\"none\"/>\n",
              "    <path d=\"M18.56 5.44l.94 2.06.94-2.06 2.06-.94-2.06-.94-.94-2.06-.94 2.06-2.06.94zm-11 1L8.5 8.5l.94-2.06 2.06-.94-2.06-.94L8.5 2.5l-.94 2.06-2.06.94zm10 10l.94 2.06.94-2.06 2.06-.94-2.06-.94-.94-2.06-.94 2.06-2.06.94z\"/><path d=\"M17.41 7.96l-1.37-1.37c-.4-.4-.92-.59-1.43-.59-.52 0-1.04.2-1.43.59L10.3 9.45l-7.72 7.72c-.78.78-.78 2.05 0 2.83L4 21.41c.39.39.9.59 1.41.59.51 0 1.02-.2 1.41-.59l7.78-7.78 2.81-2.81c.8-.78.8-2.07 0-2.86zM5.41 20L4 18.59l7.72-7.72 1.47 1.35L5.41 20z\"/>\n",
              "  </svg>\n",
              "      </button>\n",
              "      \n",
              "  <style>\n",
              "    .colab-df-container {\n",
              "      display:flex;\n",
              "      flex-wrap:wrap;\n",
              "      gap: 12px;\n",
              "    }\n",
              "\n",
              "    .colab-df-convert {\n",
              "      background-color: #E8F0FE;\n",
              "      border: none;\n",
              "      border-radius: 50%;\n",
              "      cursor: pointer;\n",
              "      display: none;\n",
              "      fill: #1967D2;\n",
              "      height: 32px;\n",
              "      padding: 0 0 0 0;\n",
              "      width: 32px;\n",
              "    }\n",
              "\n",
              "    .colab-df-convert:hover {\n",
              "      background-color: #E2EBFA;\n",
              "      box-shadow: 0px 1px 2px rgba(60, 64, 67, 0.3), 0px 1px 3px 1px rgba(60, 64, 67, 0.15);\n",
              "      fill: #174EA6;\n",
              "    }\n",
              "\n",
              "    [theme=dark] .colab-df-convert {\n",
              "      background-color: #3B4455;\n",
              "      fill: #D2E3FC;\n",
              "    }\n",
              "\n",
              "    [theme=dark] .colab-df-convert:hover {\n",
              "      background-color: #434B5C;\n",
              "      box-shadow: 0px 1px 3px 1px rgba(0, 0, 0, 0.15);\n",
              "      filter: drop-shadow(0px 1px 2px rgba(0, 0, 0, 0.3));\n",
              "      fill: #FFFFFF;\n",
              "    }\n",
              "  </style>\n",
              "\n",
              "      <script>\n",
              "        const buttonEl =\n",
              "          document.querySelector('#df-4c370b39-1d87-4557-a61d-025707e81865 button.colab-df-convert');\n",
              "        buttonEl.style.display =\n",
              "          google.colab.kernel.accessAllowed ? 'block' : 'none';\n",
              "\n",
              "        async function convertToInteractive(key) {\n",
              "          const element = document.querySelector('#df-4c370b39-1d87-4557-a61d-025707e81865');\n",
              "          const dataTable =\n",
              "            await google.colab.kernel.invokeFunction('convertToInteractive',\n",
              "                                                     [key], {});\n",
              "          if (!dataTable) return;\n",
              "\n",
              "          const docLinkHtml = 'Like what you see? Visit the ' +\n",
              "            '<a target=\"_blank\" href=https://colab.research.google.com/notebooks/data_table.ipynb>data table notebook</a>'\n",
              "            + ' to learn more about interactive tables.';\n",
              "          element.innerHTML = '';\n",
              "          dataTable['output_type'] = 'display_data';\n",
              "          await google.colab.output.renderOutput(dataTable, element);\n",
              "          const docLink = document.createElement('div');\n",
              "          docLink.innerHTML = docLinkHtml;\n",
              "          element.appendChild(docLink);\n",
              "        }\n",
              "      </script>\n",
              "    </div>\n",
              "  </div>\n",
              "  "
            ]
          },
          "metadata": {},
          "execution_count": 70
        }
      ]
    },
    {
      "cell_type": "code",
      "source": [
        "final_df.to_csv(path_or_buf=\"./output.csv\")"
      ],
      "metadata": {
        "id": "eCnXeUIDhR2K"
      },
      "execution_count": 71,
      "outputs": []
    },
    {
      "cell_type": "code",
      "source": [],
      "metadata": {
        "id": "vzzTRnm_izLA"
      },
      "execution_count": null,
      "outputs": []
    }
  ]
}